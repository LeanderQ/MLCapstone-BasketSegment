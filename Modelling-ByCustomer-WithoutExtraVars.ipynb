{
 "cells": [
  {
   "cell_type": "code",
   "execution_count": null,
   "metadata": {
    "collapsed": true
   },
   "outputs": [],
   "source": [
    "##########################################\n",
    "# This notebook is used for intial data exploration for the capstone project\n",
    "##########################################\n"
   ]
  },
  {
   "cell_type": "markdown",
   "metadata": {},
   "source": [
    "First, we import the data"
   ]
  },
  {
   "cell_type": "code",
   "execution_count": 1,
   "metadata": {
    "collapsed": false
   },
   "outputs": [
    {
     "name": "stdout",
     "output_type": "stream",
     "text": [
      "('Before DropNA', 31057875)\n",
      "('After DropNA', 21967768)\n"
     ]
    }
   ],
   "source": [
    "import pandas as pd\n",
    "import numpy as np\n",
    "import glob\n",
    "from IPython.display import display # Allows the use of display() for DataFrames\n",
    "\n",
    "\n",
    "#data = pd.read_csv('data/transactions_200607.csv')  #import one file\n",
    "\n",
    "#import all csvs (courtesy of http://stackoverflow.com/questions/20906474/import-multiple-csv-files-into-pandas-and-concatenate-into-one-dataframe)\n",
    "\n",
    "path =r'data' # use your path\n",
    "allFiles = glob.glob(path + \"/tr*.csv\")\n",
    "\n",
    "#print allFiles\n",
    "data = pd.DataFrame()\n",
    "list_ = []\n",
    "for file_ in allFiles:\n",
    "    df = pd.read_csv(file_,index_col=None, header=0)\n",
    "    list_.append(df)\n",
    "data = pd.concat(list_)\n",
    "\n",
    "#print(data.head(20))\n",
    "\n",
    "\n",
    "print('Before DropNA',len(data))\n",
    "data=data.dropna()\n",
    "print('After DropNA',len(data))\n",
    "\n",
    "#consider dropping these categories, but will try with them first.\n",
    "\n",
    "#data = data[data.CUST_PRICE_SENSITIVITY != 'XX']\n",
    "#data = data[data.CUST_LIFESTAGE != 'OT']\n",
    "#print('After Uninteresting categories',len(data))\n",
    "#list(data.columns.values)\n"
   ]
  },
  {
   "cell_type": "markdown",
   "metadata": {},
   "source": [
    "\n",
    "Reformat the data into a wide dataset using Prod_code_20 as the lowest level of aggregation.  This is as recommended by Apeh et al. in Customer Profile Classification Using Transactional Data (https://core.ac.uk/download/pdf/4899037.pdf).  Then, to predict the basket, we just apply the value for the predicted customer."
   ]
  },
  {
   "cell_type": "code",
   "execution_count": 4,
   "metadata": {
    "collapsed": false
   },
   "outputs": [
    {
     "name": "stdout",
     "output_type": "stream",
     "text": [
      "                DEP00001  DEP00002  DEP00003  DEP00004  DEP00005  DEP00006  \\\n",
      "CUST_CODE                                                                    \n",
      "CUST0000000031     14.41     19.62      1.39     21.96     13.28       0.0   \n",
      "CUST0000000068    266.45     50.44     71.24      1.68      6.86       0.0   \n",
      "CUST0000000108      0.00      0.00      4.32      0.00      0.00       0.0   \n",
      "CUST0000000131      2.34     30.37      0.00      4.86      2.46       0.0   \n",
      "CUST0000000164      2.34      0.00      0.00      0.00      0.00       0.0   \n",
      "\n",
      "                DEP00007  DEP00008  DEP00009  DEP00010  \\\n",
      "CUST_CODE                                                \n",
      "CUST0000000031       0.0    111.16      3.21     34.87   \n",
      "CUST0000000068       0.0    153.07      2.56     11.08   \n",
      "CUST0000000108       0.0      1.76      0.00      2.98   \n",
      "CUST0000000131       0.0    130.05      2.78     30.59   \n",
      "CUST0000000164       0.0      2.77      0.00      1.29   \n",
      "\n",
      "                         ...               L    M   S  Full Shop  Small Shop  \\\n",
      "CUST_CODE                ...                                                   \n",
      "CUST0000000031           ...             301  294  62         44         268   \n",
      "CUST0000000068           ...            1028  285  71        333         334   \n",
      "CUST0000000108           ...               0   12   0          0           0   \n",
      "CUST0000000131           ...             255   92  17        179          75   \n",
      "CUST0000000164           ...               0   61  44          0          94   \n",
      "\n",
      "                Top Up  XX    SPEND  CUST_LIFESTAGE  CUST_PRICE_SENSITIVITY  \n",
      "CUST_CODE                                                                    \n",
      "CUST0000000031     345   0  1210.04              OT                      UM  \n",
      "CUST0000000068     711   6  2034.81              OT                      LA  \n",
      "CUST0000000108      12   0    17.86              OT                      XX  \n",
      "CUST0000000131     110   0   933.54              OA                      UM  \n",
      "CUST0000000164       8   3   134.55              OT                      MM  \n",
      "\n",
      "[5 rows x 107 columns]\n"
     ]
    }
   ],
   "source": [
    "#create customerprofiles.  Simplest version will be to sum spend in each category in PROD_CODE_20, keeping the target variable as well\n",
    "#pivot code from http://stackoverflow.com/questions/41046766/using-and-graphing-the-results-of-a-crosstab-dataframe-in-python\n",
    "\n",
    "data_cross=data.pivot_table(index='CUST_CODE', columns='PROD_CODE_20', values='SPEND', aggfunc=np.sum, fill_value=0)\n",
    "data_cross.reset_index(level=['CUST_CODE'], inplace=True)\n",
    "\n",
    "#group the variables that are unique to each basket\n",
    "byCustomer=data.groupby(['CUST_CODE'])\n",
    "targetsByCustomer=pd.DataFrame(byCustomer['CUST_LIFESTAGE', 'CUST_PRICE_SENSITIVITY'].first())\n",
    "targetsByCustomer.reset_index(level=['CUST_CODE'], inplace=True)\n",
    "\n",
    "sumsByCustomer=pd.DataFrame(byCustomer['SPEND'].sum())\n",
    "sumsByCustomer.reset_index(level=['CUST_CODE'], inplace=True)\n",
    "\n",
    "data_cross_day=data.pivot_table(index='CUST_CODE', columns='SHOP_WEEKDAY', values='SPEND', aggfunc=np.sum, fill_value=0)\n",
    "data_cross_day.reset_index(level=['CUST_CODE'], inplace=True)\n",
    "data_cross_basketsize = data.pivot_table(index='CUST_CODE', columns='BASKET_SIZE', values='SPEND', aggfunc=len, fill_value=0)\n",
    "data_cross_basketsize.reset_index(level=['CUST_CODE'], inplace=True)\n",
    "data_cross_baskettype = data.pivot_table(index='CUST_CODE', columns='BASKET_TYPE', values='SPEND', aggfunc=len, fill_value=0)\n",
    "data_cross_baskettype.reset_index(level=['CUST_CODE'], inplace=True)\n",
    "\n",
    "\n",
    "data_cross = pd.merge(data_cross, data_cross_day, how='inner', on = 'CUST_CODE')\n",
    "data_cross = pd.merge(data_cross, data_cross_basketsize, how='inner', on = 'CUST_CODE')\n",
    "data_cross = pd.merge(data_cross, data_cross_baskettype, how='inner', on = 'CUST_CODE')\n",
    "\n",
    "data_cross = pd.merge(data_cross, sumsByCustomer, how='inner', on = 'CUST_CODE')\n",
    "data_cross = pd.merge(data_cross, targetsByCustomer, how='inner', on = 'CUST_CODE')\n",
    "\n",
    "#reset the index to what it should be for the rest of the analysis\n",
    "data_cross.set_index(['CUST_CODE'], inplace=True)\n",
    "\n",
    "print(data_cross.head(5))\n",
    "#list(data_cross.columns.values)\n",
    "#print(data_cross.describe(include='all'))"
   ]
  },
  {
   "cell_type": "code",
   "execution_count": 3,
   "metadata": {
    "collapsed": false
   },
   "outputs": [
    {
     "name": "stdout",
     "output_type": "stream",
     "text": [
      "SHOP_WEEKDAY       CUST_CODE       1       2       3       4       5       6  \\\n",
      "0             CUST0000000031  208.17  183.57  162.41  136.72  260.78  159.22   \n",
      "1             CUST0000000068  356.85  303.24  250.42  341.69  231.09  298.53   \n",
      "2             CUST0000000108    8.93    0.00    0.00    0.00    0.00    0.00   \n",
      "3             CUST0000000131  176.47  251.85  117.20  162.75  151.36   34.75   \n",
      "4             CUST0000000164   22.89   20.13   22.95   20.60   17.28   11.25   \n",
      "\n",
      "SHOP_WEEKDAY       7  \n",
      "0              99.17  \n",
      "1             252.99  \n",
      "2               8.93  \n",
      "3              39.16  \n",
      "4              19.45  \n",
      "BASKET_SIZE       CUST_CODE     L    M   S\n",
      "0            CUST0000000031   301  294  62\n",
      "1            CUST0000000068  1028  285  71\n",
      "2            CUST0000000108     0   12   0\n",
      "3            CUST0000000131   255   92  17\n",
      "4            CUST0000000164     0   61  44\n",
      "BASKET_TYPE       CUST_CODE  Full Shop  Small Shop  Top Up  XX\n",
      "0            CUST0000000031         44         268     345   0\n",
      "1            CUST0000000068        333         334     711   6\n",
      "2            CUST0000000108          0           0      12   0\n",
      "3            CUST0000000131        179          75     110   0\n",
      "4            CUST0000000164          0          94       8   3\n"
     ]
    }
   ],
   "source": [
    "\n",
    "\n",
    "print(data_cross_day.head())\n",
    "print(data_cross_basketsize.head())\n",
    "print(data_cross_baskettype.head())"
   ]
  },
  {
   "cell_type": "markdown",
   "metadata": {},
   "source": [
    "# Some visualizations"
   ]
  },
  {
   "cell_type": "code",
   "execution_count": 5,
   "metadata": {
    "collapsed": false
   },
   "outputs": [
    {
     "data": {
      "image/png": "[encoded data removed]",
      "text/plain": [
       "<matplotlib.figure.Figure at 0x120a3f710>"
      ]
     },
     "metadata": {},
     "output_type": "display_data"
    }
   ],
   "source": [
    "import matplotlib.pyplot as plt  #http://pandas.pydata.org/pandas-docs/stable/visualization.html\n",
    "%matplotlib inline\n",
    "\n",
    "plt.figure()\n",
    "\n",
    "#http://pbpython.com/simple-graphing-pandas.html\n",
    "    \n",
    "plt.subplot(211)  \n",
    "lsPlot = data_cross.groupby(['CUST_LIFESTAGE'])['SPEND'].count().plot(kind='bar')\n",
    "plt.subplot(212)  \n",
    "psPlot = data_cross.groupby(['CUST_PRICE_SENSITIVITY'])['SPEND'].count().plot(kind='bar')\n",
    "\n"
   ]
  },
  {
   "cell_type": "markdown",
   "metadata": {},
   "source": [
    "# Split the data #should probably consider stratified sampling here."
   ]
  },
  {
   "cell_type": "code",
   "execution_count": 6,
   "metadata": {
    "collapsed": false
   },
   "outputs": [],
   "source": [
    "#create the training, testing split.  can't use sklearn.cross_validation.train_test_split since I have two targets\n",
    "\n",
    "#create a copy:\n",
    "data_cross_for_balanced_PS = data_cross\n",
    "data_cross_for_balanced_LS = data_cross\n",
    "\n",
    "#first do a 70-30 split.  \n",
    "train_X=data_cross.sample(frac=0.7,random_state=42)\n",
    "test_X=data_cross.drop(train_X.index)\n",
    "\n",
    "#pop off the classifiers\n",
    "train_y = train_X[[\"CUST_LIFESTAGE\",\"CUST_PRICE_SENSITIVITY\"]] #potentially for use in multi-output decision trees\n",
    "train_y_LS = train_X.pop(\"CUST_LIFESTAGE\")\n",
    "train_y_PS = train_X.pop(\"CUST_PRICE_SENSITIVITY\")\n",
    "\n",
    "test_y = test_X[[\"CUST_LIFESTAGE\",\"CUST_PRICE_SENSITIVITY\"]] #potentially for use in multi-output decision trees\n",
    "test_y_LS = test_X.pop(\"CUST_LIFESTAGE\")\n",
    "test_y_PS = test_X.pop(\"CUST_PRICE_SENSITIVITY\")"
   ]
  },
  {
   "cell_type": "markdown",
   "metadata": {},
   "source": [
    "\n",
    "# Downsample the training so all strata are equal"
   ]
  },
  {
   "cell_type": "code",
   "execution_count": 7,
   "metadata": {
    "collapsed": false
   },
   "outputs": [
    {
     "name": "stdout",
     "output_type": "stream",
     "text": [
      "CUST_PRICE_SENSITIVITY\n",
      "LA    10689\n",
      "MM    16603\n",
      "UM    11290\n",
      "XX     6067\n",
      "Name: SPEND, dtype: int64\n",
      "CUST_PRICE_SENSITIVITY\n",
      "LA    6067\n",
      "MM    6067\n",
      "UM    6067\n",
      "XX    6067\n",
      "Name: SPEND, dtype: int64\n",
      "CUST_LIFESTAGE\n",
      "OA     5359\n",
      "OF     1756\n",
      "OT    22126\n",
      "PE     3600\n",
      "YA     6375\n",
      "YF     5433\n",
      "Name: SPEND, dtype: int64\n",
      "CUST_LIFESTAGE\n",
      "OA    1756\n",
      "OF    1756\n",
      "OT    1756\n",
      "PE    1756\n",
      "YA    1756\n",
      "YF    1756\n",
      "Name: SPEND, dtype: int64\n"
     ]
    }
   ],
   "source": [
    "#based on  https://www.datarobot.com/blog/classification-with-scikit-learn/\n",
    "\n",
    "rng = np.random.RandomState(42)\n",
    "\n",
    "print(data_cross_for_balanced_PS.groupby(['CUST_PRICE_SENSITIVITY'])['SPEND'].count())\n",
    "min_count_PS = min(data_cross_for_balanced_PS.groupby(['CUST_PRICE_SENSITIVITY'])['SPEND'].count())\n",
    "\n",
    "indices_LA = np.where(data_cross_for_balanced_PS.CUST_PRICE_SENSITIVITY == 'LA')[0]\n",
    "rng.shuffle(indices_LA)\n",
    "data_cross_for_balanced_PS = data_cross_for_balanced_PS.drop(data_cross_for_balanced_PS.index[indices_LA[min_count_PS:]])\n",
    "\n",
    "indices_MM = np.where(data_cross_for_balanced_PS.CUST_PRICE_SENSITIVITY == 'MM')[0]\n",
    "rng.shuffle(indices_MM)\n",
    "data_cross_for_balanced_PS = data_cross_for_balanced_PS.drop(data_cross_for_balanced_PS.index[indices_MM[min_count_PS:]])\n",
    "\n",
    "indices_UM = np.where(data_cross_for_balanced_PS.CUST_PRICE_SENSITIVITY == 'UM')[0]\n",
    "rng.shuffle(indices_UM)\n",
    "data_cross_for_balanced_PS = data_cross_for_balanced_PS.drop(data_cross_for_balanced_PS.index[indices_UM[min_count_PS:]])\n",
    "\n",
    "indices_XX = np.where(data_cross_for_balanced_PS.CUST_PRICE_SENSITIVITY == 'XX')[0]\n",
    "rng.shuffle(indices_XX)\n",
    "data_cross_for_balanced_PS = data_cross_for_balanced_PS.drop(data_cross_for_balanced_PS.index[indices_XX[min_count_PS:]])\n",
    "\n",
    "print(data_cross_for_balanced_PS.groupby(['CUST_PRICE_SENSITIVITY'])['SPEND'].count())\n",
    "\n",
    "print(data_cross_for_balanced_LS.groupby(['CUST_LIFESTAGE'])['SPEND'].count())\n",
    "min_count_LS = min(data_cross_for_balanced_LS.groupby(['CUST_LIFESTAGE'])['SPEND'].count())\n",
    "\n",
    "indices_OA = np.where(data_cross_for_balanced_LS.CUST_LIFESTAGE == 'OA')[0]\n",
    "rng.shuffle(indices_OA)\n",
    "data_cross_for_balanced_LS = data_cross_for_balanced_LS.drop(data_cross_for_balanced_LS.index[indices_OA[min_count_LS:]])\n",
    "\n",
    "indices_OF = np.where(data_cross_for_balanced_LS.CUST_LIFESTAGE == 'OF')[0]\n",
    "rng.shuffle(indices_OF)\n",
    "data_cross_for_balanced_LS = data_cross_for_balanced_LS.drop(data_cross_for_balanced_LS.index[indices_OF[min_count_LS:]])\n",
    "\n",
    "indices_OT = np.where(data_cross_for_balanced_LS.CUST_LIFESTAGE == 'OT')[0]\n",
    "rng.shuffle(indices_OT)\n",
    "data_cross_for_balanced_LS = data_cross_for_balanced_LS.drop(data_cross_for_balanced_LS.index[indices_OT[min_count_LS:]])\n",
    "\n",
    "indices_PE = np.where(data_cross_for_balanced_LS.CUST_LIFESTAGE == 'PE')[0]\n",
    "rng.shuffle(indices_PE)\n",
    "data_cross_for_balanced_LS = data_cross_for_balanced_LS.drop(data_cross_for_balanced_LS.index[indices_PE[min_count_LS:]])\n",
    "\n",
    "indices_YA = np.where(data_cross_for_balanced_LS.CUST_LIFESTAGE == 'YA')[0]\n",
    "rng.shuffle(indices_YA)\n",
    "data_cross_for_balanced_LS = data_cross_for_balanced_LS.drop(data_cross_for_balanced_LS.index[indices_YA[min_count_LS:]])\n",
    "\n",
    "indices_YF = np.where(data_cross_for_balanced_LS.CUST_LIFESTAGE == 'YF')[0]\n",
    "rng.shuffle(indices_YF)\n",
    "data_cross_for_balanced_LS = data_cross_for_balanced_LS.drop(data_cross_for_balanced_LS.index[indices_YF[min_count_LS:]])\n",
    "\n",
    "\n",
    "print(data_cross_for_balanced_LS.groupby(['CUST_LIFESTAGE'])['SPEND'].count())\n",
    "\n",
    "\n",
    "\n",
    "#first do a 70-30 split.  \n",
    "balanced_PS_train_X=data_cross_for_balanced_PS.sample(frac=0.7,random_state=42)\n",
    "balanced_PS_test_X=data_cross_for_balanced_PS.drop(balanced_PS_train_X.index)\n",
    "\n",
    "#pop off the classifiers\n",
    "balanced_PS_train_y_LS = balanced_PS_train_X.pop(\"CUST_LIFESTAGE\") #don't need this\n",
    "balanced_PS_train_y_PS = balanced_PS_train_X.pop(\"CUST_PRICE_SENSITIVITY\")\n",
    "\n",
    "balanced_PS_test_y_LS = balanced_PS_test_X.pop(\"CUST_LIFESTAGE\") #don't need this\n",
    "balanced_PS_test_y_PS = balanced_PS_test_X.pop(\"CUST_PRICE_SENSITIVITY\")\n",
    "\n",
    "#first do a 70-30 split.  \n",
    "balanced_LS_train_X=data_cross_for_balanced_LS.sample(frac=0.7,random_state=42)\n",
    "balanced_LS_test_X=data_cross_for_balanced_LS.drop(balanced_LS_train_X.index)\n",
    "\n",
    "#pop off the classifiers\n",
    "balanced_LS_train_y_LS = balanced_LS_train_X.pop(\"CUST_LIFESTAGE\")\n",
    "balanced_LS_train_y_PS = balanced_LS_train_X.pop(\"CUST_PRICE_SENSITIVITY\") #don't need this\n",
    "\n",
    "balanced_LS_test_y_LS = balanced_LS_test_X.pop(\"CUST_LIFESTAGE\")\n",
    "balanced_LS_test_y_PS = balanced_LS_test_X.pop(\"CUST_PRICE_SENSITIVITY\") #don't need this"
   ]
  },
  {
   "cell_type": "code",
   "execution_count": 8,
   "metadata": {
    "collapsed": false
   },
   "outputs": [
    {
     "name": "stdout",
     "output_type": "stream",
     "text": [
      "CUST_LIFESTAGE\n",
      "OA     5359\n",
      "OF     1756\n",
      "OT    22126\n",
      "PE     3600\n",
      "YA     6375\n",
      "YF     5433\n",
      "Name: SPEND, dtype: int64\n",
      "CUST_LIFESTAGE\n",
      "OA    22126\n",
      "OF    22126\n",
      "OT    22126\n",
      "PE    22126\n",
      "YA    22126\n",
      "YF    22126\n",
      "Name: SPEND, dtype: int64\n"
     ]
    }
   ],
   "source": [
    "#upsampling for LS, per http://www.site.uottawa.ca/~nat/Courses/csi5388/Class-Imbalances.ppt\n",
    "from sklearn.utils import resample\n",
    "data_cross_upsampled_LS = data_cross\n",
    "\n",
    "print(data_cross_upsampled_LS.groupby(['CUST_LIFESTAGE'])['SPEND'].count())\n",
    "max_count_LS = max(data_cross_upsampled_LS.groupby(['CUST_LIFESTAGE'])['SPEND'].count())\n",
    "\n",
    "subset_OA = data_cross_upsampled_LS[data_cross_upsampled_LS.CUST_LIFESTAGE == 'OA']\n",
    "up_subset_OA = resample(subset_OA, n_samples=max_count_LS)\n",
    "subset_OT = data_cross_upsampled_LS[data_cross_upsampled_LS.CUST_LIFESTAGE == 'OT']\n",
    "up_subset_OT = resample(subset_OT, n_samples=max_count_LS)\n",
    "subset_PE = data_cross_upsampled_LS[data_cross_upsampled_LS.CUST_LIFESTAGE == 'PE']\n",
    "up_subset_PE = resample(subset_PE, n_samples=max_count_LS)\n",
    "subset_YA = data_cross_upsampled_LS[data_cross_upsampled_LS.CUST_LIFESTAGE == 'YA']\n",
    "up_subset_YA = resample(subset_YA, n_samples=max_count_LS)\n",
    "subset_OF = data_cross_upsampled_LS[data_cross_upsampled_LS.CUST_LIFESTAGE == 'OF']\n",
    "up_subset_OF = resample(subset_OF, n_samples=max_count_LS)\n",
    "subset_YF = data_cross_upsampled_LS[data_cross_upsampled_LS.CUST_LIFESTAGE == 'YF']\n",
    "up_subset_YF = resample(subset_YF, n_samples=max_count_LS)\n",
    "\n",
    "data_cross_upsampled_LS = pd.concat([up_subset_OA, subset_OT,up_subset_OF, up_subset_YA, up_subset_YF, up_subset_PE ])\n",
    "\n",
    "print(data_cross_upsampled_LS.groupby(['CUST_LIFESTAGE'])['SPEND'].count())\n",
    "\n",
    "#first do a 70-30 split.  \n",
    "upsampled_LS_train_X=data_cross_upsampled_LS.sample(frac=0.7,random_state=42)\n",
    "upsampled_LS_test_X=data_cross_upsampled_LS.drop(upsampled_LS_train_X.index)\n",
    "\n",
    "#pop off the classifiers\n",
    "upsampled_LS_train_y_LS = upsampled_LS_train_X.pop(\"CUST_LIFESTAGE\")\n",
    "upsampled_LS_train_y_PS = upsampled_LS_train_X.pop(\"CUST_PRICE_SENSITIVITY\") #don't need this\n",
    "\n",
    "upsampled_LS_test_y_LS = upsampled_LS_test_X.pop(\"CUST_LIFESTAGE\")\n",
    "upsampled_LS_test_y_PS = upsampled_LS_test_X.pop(\"CUST_PRICE_SENSITIVITY\") #don't need this"
   ]
  },
  {
   "cell_type": "markdown",
   "metadata": {},
   "source": [
    "# Create some helper functions"
   ]
  },
  {
   "cell_type": "code",
   "execution_count": 9,
   "metadata": {
    "collapsed": true
   },
   "outputs": [],
   "source": [
    "from sklearn.metrics import confusion_matrix\n",
    "\n",
    "#Create a function to test classifiers and create simple output\n",
    "def tryClassifier_PS (title,psClassifier, train_X, test_X, train_y_PS, test_y_PS):\n",
    "    ps_pred_train = psClassifier.predict(train_X)\n",
    "    ps_pred_test = psClassifier.predict(test_X)\n",
    "    \n",
    "    print(title)\n",
    "    print('Price Sensitivity Training: ', psClassifier.score(train_X, train_y_PS))\n",
    "    print(confusion_matrix(train_y_PS, ps_pred_train, labels=[\"LA\", \"MM\", \"UM\",\"XX\"]))\n",
    "    print('Price Sensitivity Testing: ', psClassifier.score(test_X, test_y_PS))\n",
    "    print(confusion_matrix(test_y_PS, ps_pred_test, labels=[\"LA\", \"MM\", \"UM\",\"XX\"]))\n",
    "\n",
    "\n",
    "def tryClassifier_LS (title, lsClassifier, train_X, test_X, train_y_LS, test_y_LS):\n",
    "\n",
    "    ls_pred_train = lsClassifier.predict(train_X)\n",
    "    ls_pred_test = lsClassifier.predict(test_X)\n",
    "    \n",
    "    print('LifeStage Training: ', lsClassifier.score(train_X, train_y_LS))\n",
    "    print(confusion_matrix(train_y_LS, ls_pred_train, labels=[\"OA\", \"OF\", \"OT\",\"PE\",\"YA\",\"YF\"]))\n",
    "    print('LifeStage Testing: ', lsClassifier.score(test_X, test_y_LS))\n",
    "    print(confusion_matrix(test_y_LS, ls_pred_test, labels=[\"OA\", \"OF\", \"OT\",\"PE\",\"YA\",\"YF\"]))\n",
    " \n",
    "    \n",
    "from sklearn.metrics import accuracy_score\n",
    "\n",
    "#create an accuracy metric\n",
    "def performance_metric(y_true, y_predict):\n",
    "    \"\"\" Calculates and returns the performance score between \n",
    "        true and predicted values based on the metric chosen. \"\"\"\n",
    "    \n",
    "    # TODO: Calculate the performance score between 'y_true' and 'y_predict'\n",
    "    score = accuracy_score(y_true, y_predict)\n",
    "    \n",
    "    # Return the score\n",
    "    return score\n",
    "from sklearn.metrics import make_scorer\n",
    "scoring_fnc = make_scorer(performance_metric)"
   ]
  },
  {
   "cell_type": "markdown",
   "metadata": {},
   "source": [
    "# try the classifiers"
   ]
  },
  {
   "cell_type": "code",
   "execution_count": null,
   "metadata": {
    "collapsed": false
   },
   "outputs": [
    {
     "name": "stdout",
     "output_type": "stream",
     "text": [
      "Unbalanced:\n"
     ]
    }
   ],
   "source": [
    "from sklearn.ensemble import RandomForestClassifier #using scikitlearn 0.17.1\n",
    "\n",
    "print('Unbalanced:')\n",
    "\n",
    "rfc_ps = RandomForestClassifier(n_estimators = 10000,random_state=42, criterion=\"entropy\"\n",
    "                                , max_features = 10\n",
    "                                #, max_leaf_nodes=1000\n",
    "                                #, min_samples_leaf=20\n",
    "                                , oob_score=True\n",
    "                               )\n",
    "rfc_ls = RandomForestClassifier(n_estimators = 10000,random_state=42, criterion=\"entropy\"\n",
    "                                , max_features = 10\n",
    "                                #, max_leaf_nodes=1000\n",
    "                                #, min_samples_leaf=20\n",
    "                                , oob_score=True\n",
    "                               )\n",
    "#need to handle categorical variables either through pandas.getDummies or http://scikit-learn.org/dev/modules/generated/sklearn.preprocessing.OneHotEncoder.html#sklearn.preprocessing.OneHotEncoder\n",
    "#train_X_num\n",
    "\n",
    "#print(train_X_dummied.head(10))\n",
    "#print(list(train_X_dummied.columns.values))\n",
    "\n",
    "rfc_ps = rfc_ps.fit(train_X, train_y_PS)\n",
    "rfc_ls = rfc_ls.fit(train_X, train_y_LS)\n",
    "\n",
    "print ('Recall that running training data back through the random forest is not as good an indicator of performance as the OOB score')\n",
    "\n",
    "print('Price Sensitivity OOB: ', rfc_ps.oob_score_)\n",
    "tryClassifier_PS (\"Random Forest\",rfc_ps, train_X, test_X, train_y_PS, test_y_PS)\n",
    "\n",
    "print('Life Stage OOB: ', rfc_ls.oob_score_)\n",
    "tryClassifier_LS (\"Random Forest\", rfc_ls, train_X, test_X, train_y_LS, test_y_LS)\n",
    "\n",
    "print('Balanced:')\n",
    "\n",
    "rfc_balanced_ps = RandomForestClassifier(n_estimators = 10000,random_state=42, criterion=\"entropy\"\n",
    "                                , max_features = 10\n",
    "                                #, max_leaf_nodes=1000\n",
    "                                #, min_samples_leaf=20\n",
    "                                , oob_score=True\n",
    "                               )\n",
    "rfc_balanced_ls = RandomForestClassifier(n_estimators = 10000,random_state=42, criterion=\"entropy\"\n",
    "                                , max_features = 10\n",
    "                                #, max_leaf_nodes=1000\n",
    "                                #, min_samples_leaf=20\n",
    "                                , oob_score=True\n",
    "                               )\n",
    "#need to handle categorical variables either through pandas.getDummies or http://scikit-learn.org/dev/modules/generated/sklearn.preprocessing.OneHotEncoder.html#sklearn.preprocessing.OneHotEncoder\n",
    "#train_X_num\n",
    "\n",
    "#print(train_X_dummied.head(10))\n",
    "#print(list(train_X_dummied.columns.values))\n",
    "\n",
    "rfc_balanced_ps = rfc_balanced_ps.fit(balanced_PS_train_X, balanced_PS_train_y_PS)\n",
    "rfc_balanced_ls = rfc_balanced_ls.fit(balanced_LS_train_X, balanced_LS_train_y_LS)\n",
    "\n",
    "print('Price Sensitivity OOB: ', rfc_ps.oob_score_)\n",
    "tryClassifier_PS (\"Random Forest\",rfc_balanced_ps, balanced_PS_train_X, test_X, balanced_PS_train_y_PS, test_y_PS)\n",
    "\n",
    "print('Life Stage OOB: ', rfc_ls.oob_score_)\n",
    "tryClassifier_LS (\"Random Forest\", rfc_balanced_ls, balanced_LS_train_X, test_X, balanced_LS_train_y_LS, test_y_LS)\n"
   ]
  },
  {
   "cell_type": "markdown",
   "metadata": {},
   "source": [
    "##Sample output\n",
    "\n",
    "Unbalanced:\n",
    "Recall that running training data back through the random forest is not as good an indicator of performance as the OOB score\n",
    "('Price Sensitivity OOB: ', 0.61323350611121774)\n",
    "Random Forest\n",
    "('Price Sensitivity Training: ', 1.0)\n",
    "[[ 7467     0     0     0]\n",
    " [    0 11628     0     0]\n",
    " [    0     0  7936     0]\n",
    " [    0     0     0  4223]]\n",
    "('Price Sensitivity Testing: ', 0.61612541993281078)\n",
    "[[1150 1783  133  156]\n",
    " [ 457 3696  666  156]\n",
    " [  42 1551 1670   91]\n",
    " [  15   70   22 1737]]\n",
    "('Life Stage OOB: ', 0.51938951814167789)\n",
    "('LifeStage Training: ', 0.99910411467332183)\n",
    "[[ 3717     0     6     0     0     0]\n",
    " [    0  1253     2     0     0     0]\n",
    " [    0     0 15496     0     0     0]\n",
    " [    0     0     3  2500     0     0]\n",
    " [    0     0    12     0  4457     0]\n",
    " [    0     0     5     0     0  3803]]\n",
    "('LifeStage Testing: ', 0.51213139231056359)\n",
    "[[  56    0 1481   36    2   61]\n",
    " [   0    0  369    2    0  130]\n",
    " [  50    1 6219   54    3  303]\n",
    " [  54    0  921  114    0    8]\n",
    " [  25    0 1723    7    6  145]\n",
    " [   7    0 1146    7    0  465]]\n",
    "Balanced:\n",
    "('Price Sensitivity OOB: ', 0.61323350611121774)\n",
    "Random Forest\n",
    "('Price Sensitivity Training: ', 1.0)\n",
    "[[4236    0    0    0]\n",
    " [   0 4228    0    0]\n",
    " [   0    0 4288    0]\n",
    " [   0    0    0 4236]]\n",
    "('Price Sensitivity Testing: ', 0.71392310563643147)\n",
    "[[2485  359  228  150]\n",
    " [1155 2532 1087  201]\n",
    " [ 206  322 2722  104]\n",
    " [  11    1    8 1824]]\n",
    "('Life Stage OOB: ', 0.51938951814167789)\n",
    "('LifeStage Training: ', 0.99959322033898301)\n",
    "[[1223    0    0    0    0    1]\n",
    " [   0 1209    0    0    0    0]\n",
    " [   0    0 1250    0    0    0]\n",
    " [   0    0    1 1242    0    0]\n",
    " [   0    0    1    0 1236    0]\n",
    " [   0    0    0    0    0 1212]]\n",
    "('LifeStage Testing: ', 0.51847704367301228)\n",
    "[[ 617  117  191  431  188   92]\n",
    " [  12  376   24    9   35   45]\n",
    " [ 419  476 3364  903 1032  436]\n",
    " [  98   19  116  815   34   15]\n",
    " [ 171  173  235  197  953  177]\n",
    " [ 103  250  150   81  221  820]]"
   ]
  },
  {
   "cell_type": "code",
   "execution_count": 29,
   "metadata": {
    "collapsed": false
   },
   "outputs": [
    {
     "name": "stdout",
     "output_type": "stream",
     "text": [
      "The scikit-learn version is 0.18.1.\n",
      "All code tested on 0.18.1\n"
     ]
    }
   ],
   "source": [
    "import sklearn\n",
    "\n",
    "print('The scikit-learn version is {}.'.format(sklearn.__version__))\n",
    "print('All code tested on 0.18.1')"
   ]
  },
  {
   "cell_type": "code",
   "execution_count": 28,
   "metadata": {
    "collapsed": false
   },
   "outputs": [
    {
     "name": "stdout",
     "output_type": "stream",
     "text": [
      "Gradient Boosting Classifier\n",
      "('Price Sensitivity Training: ', 1.0)\n",
      "[[ 7467     0     0     0]\n",
      " [    0 11628     0     0]\n",
      " [    0     0  7936     0]\n",
      " [    0     0     0  4223]]\n",
      "('Price Sensitivity Testing: ', 0.6206047032474804)\n",
      "[[1476 1512  154   80]\n",
      " [ 721 3342  822   90]\n",
      " [ 104 1374 1833   43]\n",
      " [  43   96   43 1662]]\n",
      "Gradient Boosting Classifier\n",
      "('Price Sensitivity Training: ', 1.0)\n",
      "[[4236    0    0    0]\n",
      " [   0 4228    0    0]\n",
      " [   0    0 4288    0]\n",
      " [   0    0    0 4236]]\n",
      "('Price Sensitivity Testing: ', 0.72340425531914898)\n",
      "[[2476  471  171  104]\n",
      " [1073 2723 1039  140]\n",
      " [ 185  419 2678   72]\n",
      " [  14    6   11 1813]]\n"
     ]
    }
   ],
   "source": [
    "from sklearn.ensemble import GradientBoostingClassifier\n",
    "gbc_ps = GradientBoostingClassifier(learning_rate=0.05, n_estimators=1000, max_depth=10)\n",
    "balanced_gbc_ps = GradientBoostingClassifier(learning_rate=0.05, n_estimators=1000, max_depth=10)\n",
    "\n",
    "#gbc_ls = GradientBoostingClassifier(learning_rate=0.05, n_estimators=1000, max_depth=10)\n",
    "\n",
    "gbc_ps = gbc_ps.fit(train_X, train_y_PS)\n",
    "balanced_gbc_ps = balanced_gbc_ps.fit(balanced_PS_train_X, balanced_PS_train_y_PS)\n",
    "#gbc_ls = rfc_ls.fit(train_X, train_y_LS)\n",
    "\n",
    "tryClassifier_PS (\"Gradient Boosting Classifier\",gbc_ps, train_X, test_X, train_y_PS, test_y_PS)\n",
    "tryClassifier_PS (\"Gradient Boosting Classifier\",balanced_gbc_ps, balanced_PS_train_X, test_X, balanced_PS_train_y_PS, test_y_PS)\n"
   ]
  },
  {
   "cell_type": "markdown",
   "metadata": {},
   "source": [
    "## sample output\n",
    "Gradient Boosting Classifier\n",
    "('Price Sensitivity Training: ', 1.0)\n",
    "[[ 7467     0     0     0]\n",
    " [    0 11628     0     0]\n",
    " [    0     0  7936     0]\n",
    " [    0     0     0  4223]]\n",
    "('Price Sensitivity Testing: ', 0.61814109742441214)\n",
    "[[1466 1520  158   78]\n",
    " [ 740 3321  822   92]\n",
    " [ 102 1378 1833   41]\n",
    " [  47   91   46 1660]]\n",
    "Gradient Boosting Classifier\n",
    "('Price Sensitivity Training: ', 1.0)\n",
    "[[4236    0    0    0]\n",
    " [   0 4228    0    0]\n",
    " [   0    0 4288    0]\n",
    " [   0    0    0 4236]]\n",
    "('Price Sensitivity Testing: ', 0.72474804031354978)\n",
    "[[2466  470  184  102]\n",
    " [1061 2759 1011  144]\n",
    " [ 185  435 2668   66]\n",
    " [  16    4    9 1815]]"
   ]
  },
  {
   "cell_type": "code",
   "execution_count": 13,
   "metadata": {
    "collapsed": false
   },
   "outputs": [
    {
     "name": "stdout",
     "output_type": "stream",
     "text": [
      "('LifeStage Training: ', 0.99910411467332183)\n",
      "[[ 3717     0     6     0     0     0]\n",
      " [    0  1253     2     0     0     0]\n",
      " [    0     0 15496     0     0     0]\n",
      " [    0     0     3  2500     0     0]\n",
      " [    0     0    12     0  4457     0]\n",
      " [    0     0     5     0     0  3803]]\n",
      "('LifeStage Testing: ', 0.50727883538633822)\n",
      "[[ 138    0 1305   87   61   45]\n",
      " [   9    2  370    4   18   98]\n",
      " [ 131    7 5936  130  190  236]\n",
      " [  98    0  783  197   10    9]\n",
      " [  58    0 1568   20  142  118]\n",
      " [  32    5 1144   10   54  380]]\n",
      "('LifeStage Training: ', 0.99959322033898301)\n",
      "[[1224    0    0    0    0    0]\n",
      " [   0 1209    0    0    0    0]\n",
      " [   0    0 1250    0    0    0]\n",
      " [   0    0    1 1242    0    0]\n",
      " [   0    0    1    0 1236    0]\n",
      " [   1    0    0    0    0 1211]]\n",
      "('LifeStage Testing: ', 0.49092945128779397)\n",
      "[[ 696  119  191  344  172  114]\n",
      " [  18  379   20    7   30   47]\n",
      " [ 666  581 3047  811  904  621]\n",
      " [ 153   17   96  771   32   28]\n",
      " [ 220  209  228  149  867  233]\n",
      " [ 115  283  148   62  201  816]]\n"
     ]
    }
   ],
   "source": [
    "from sklearn.ensemble import GradientBoostingClassifier\n",
    "gbc_LS = GradientBoostingClassifier(learning_rate=0.05, n_estimators=1000, max_depth=10)\n",
    "balanced_gbc_LS = GradientBoostingClassifier(learning_rate=0.05, n_estimators=1000, max_depth=10)\n",
    "\n",
    "#gbc_ls = GradientBoostingClassifier(learning_rate=0.05, n_estimators=1000, max_depth=10)\n",
    "\n",
    "gbc_LS = gbc_LS.fit(train_X, train_y_LS)\n",
    "balanced_gbc_LS = balanced_gbc_LS.fit(balanced_LS_train_X, balanced_LS_train_y_LS)\n",
    "#gbc_ls = rfc_ls.fit(train_X, train_y_LS)\n",
    "\n",
    "tryClassifier_LS (\"Gradient Boosting Classifier\",gbc_LS, train_X, test_X, train_y_LS, test_y_LS)\n",
    "tryClassifier_LS (\"Gradient Boosting Classifier\",balanced_gbc_LS, balanced_LS_train_X, test_X, balanced_LS_train_y_LS, test_y_LS)\n"
   ]
  },
  {
   "cell_type": "code",
   "execution_count": 29,
   "metadata": {
    "collapsed": false
   },
   "outputs": [
    {
     "name": "stdout",
     "output_type": "stream",
     "text": [
      "KNN Classifier\n",
      "('Price Sensitivity Training: ', 0.6076342228194791)\n",
      "[[4091 2711  496  169]\n",
      " [2321 7977 1192  138]\n",
      " [1108 3497 3239   92]\n",
      " [ 259  197   83 3684]]\n",
      "('Price Sensitivity Testing: ', 0.50272489734975734)\n",
      "[[1319 1542  277   84]\n",
      " [1413 2768  724   70]\n",
      " [ 557 1685 1079   33]\n",
      " [ 113  114   49 1568]]\n",
      "KNN Classifier\n",
      "('Price Sensitivity Training: ', 0.65104779844596183)\n",
      "[[2838  814  427  157]\n",
      " [1345 2025  744  114]\n",
      " [ 881 1033 2266  108]\n",
      " [ 162   74   69 3931]]\n",
      "('Price Sensitivity Testing: ', 0.53049645390070921)\n",
      "[[1968  764  358  132]\n",
      " [1904 1908 1027  136]\n",
      " [ 794  924 1548   88]\n",
      " [  89   33   40 1682]]\n"
     ]
    }
   ],
   "source": [
    "from sklearn.neighbors import KNeighborsClassifier\n",
    "\n",
    "knn_ps = KNeighborsClassifier(n_neighbors=10)\n",
    "balanced_knn_ps = KNeighborsClassifier(n_neighbors=10)\n",
    "#knn_ls = KNeighborsClassifier(n_neighbors=10)\n",
    "\n",
    "knn_ps = knn_ps.fit(train_X,train_y_PS)\n",
    "balanced_knn_ps = balanced_knn_ps.fit(balanced_PS_train_X,balanced_PS_train_y_PS)\n",
    "#knn_ls = knn_ls.fit(train_X,train_y_LS)\n",
    "\n",
    "tryClassifier_PS (\"KNN Classifier\",knn_ps, train_X, test_X, train_y_PS, test_y_PS)\n",
    "tryClassifier_PS (\"KNN Classifier\",balanced_knn_ps, balanced_PS_train_X, test_X, balanced_PS_train_y_PS, test_y_PS)"
   ]
  },
  {
   "cell_type": "code",
   "execution_count": null,
   "metadata": {
    "collapsed": true
   },
   "outputs": [],
   "source": [
    "## sample output\n",
    "KNN Classifier\n",
    "('Price Sensitivity Training: ', 0.6076342228194791)\n",
    "[[4091 2711  496  169]\n",
    " [2321 7977 1192  138]\n",
    " [1108 3497 3239   92]\n",
    " [ 259  197   83 3684]]\n",
    "('Price Sensitivity Testing: ', 0.50272489734975734)\n",
    "[[1319 1542  277   84]\n",
    " [1413 2768  724   70]\n",
    " [ 557 1685 1079   33]\n",
    " [ 113  114   49 1568]]\n",
    "KNN Classifier\n",
    "('Price Sensitivity Training: ', 0.65104779844596183)\n",
    "[[2838  814  427  157]\n",
    " [1345 2025  744  114]\n",
    " [ 881 1033 2266  108]\n",
    " [ 162   74   69 3931]]\n",
    "('Price Sensitivity Testing: ', 0.53049645390070921)\n",
    "[[1968  764  358  132]\n",
    " [1904 1908 1027  136]\n",
    " [ 794  924 1548   88]\n",
    " [  89   33   40 1682]]"
   ]
  },
  {
   "cell_type": "code",
   "execution_count": 18,
   "metadata": {
    "collapsed": false
   },
   "outputs": [
    {
     "name": "stdout",
     "output_type": "stream",
     "text": [
      "('LifeStage Training: ', 0.55589684520381388)\n",
      "[[  929    47  2051    79   272   345]\n",
      " [   76   135   637    13   106   288]\n",
      " [  480   105 13670    84   463   694]\n",
      " [  303    25  1614   274   145   142]\n",
      " [  276    57  2708    35   904   489]\n",
      " [  158    71  1788    40   289  1462]]\n",
      "('LifeStage Testing: ', 0.46285927584919745)\n",
      "[[ 184   31 1051   41  140  189]\n",
      " [  25   13  297    5   30  131]\n",
      " [ 316   83 5294   71  374  492]\n",
      " [ 161   10  748   43   67   68]\n",
      " [ 137   31 1235   21  216  266]\n",
      " [  86   42  909   12  126  450]]\n",
      "('LifeStage Training: ', 0.41477966101694913)\n",
      "[[475 190 133 126 138 162]\n",
      " [101 556 132  52 119 249]\n",
      " [127 151 644  73 134 121]\n",
      " [218 160 202 432 122 109]\n",
      " [123 250 174  84 435 171]\n",
      " [108 278 116  64 129 517]]\n",
      "('LifeStage Testing: ', 0.33766330720418064)\n",
      "[[ 395  341  218  211  221  250]\n",
      " [  47  206   61   25   54  108]\n",
      " [ 758 1001 2666  619  848  738]\n",
      " [ 220  187  201  274   99  116]\n",
      " [ 262  433  264  149  461  337]\n",
      " [ 184  454  164   86  216  521]]\n"
     ]
    }
   ],
   "source": [
    "from sklearn.neighbors import KNeighborsClassifier\n",
    "\n",
    "knn_LS = KNeighborsClassifier(n_neighbors=10)\n",
    "balanced_knn_LS = KNeighborsClassifier(n_neighbors=10)\n",
    "\n",
    "\n",
    "knn_LS = knn_LS.fit(train_X,train_y_LS)\n",
    "balanced_knn_LS = balanced_knn_LS.fit(balanced_LS_train_X,balanced_LS_train_y_LS)\n",
    "\n",
    "\n",
    "tryClassifier_LS (\"KNN Classifier\",knn_LS, train_X, test_X, train_y_LS, test_y_LS)\n",
    "tryClassifier_LS (\"KNN Classifier\",balanced_knn_LS, balanced_LS_train_X, test_X, balanced_LS_train_y_LS, test_y_LS)"
   ]
  },
  {
   "cell_type": "code",
   "execution_count": 102,
   "metadata": {
    "collapsed": false
   },
   "outputs": [
    {
     "name": "stdout",
     "output_type": "stream",
     "text": [
      "MLP Classifier\n",
      "('Price Sensitivity Training: ', 0.5092788123120241)\n",
      "[[2191 5050  208   18]\n",
      " [1589 8793 1231   15]\n",
      " [ 272 5024 2627   13]\n",
      " [  59 1850    8 2306]]\n",
      "('Price Sensitivity Testing: ', 0.51325121313923106)\n",
      "[[ 947 2172   93   10]\n",
      " [ 670 3762  538    5]\n",
      " [ 121 2064 1167    2]\n",
      " [  25  814    6  999]]\n",
      "MLP Classifier Balanced\n",
      "('Price Sensitivity Training: ', 0.60448551919001647)\n",
      "[[2786  695  308  447]\n",
      " [1862 1186  859  321]\n",
      " [ 908  858 2220  302]\n",
      " [ 115   12   32 4077]]\n",
      "('Price Sensitivity Testing: ', 0.52541993281075028)\n",
      "[[2134  485  254  349]\n",
      " [2181 1390 1021  383]\n",
      " [ 709  679 1742  224]\n",
      " [  49    6   17 1772]]\n",
      "MLP Classifier Scaled\n",
      "('Price Sensitivity Training: ', 0.59982722211556916)\n",
      "[[3023 3711  295  438]\n",
      " [1649 7746 1804  429]\n",
      " [ 232 3375 4048  281]\n",
      " [  52  203   38 3930]]\n",
      "('Price Sensitivity Testing: ', 0.59977603583426653)\n",
      "[[1294 1596  138  194]\n",
      " [ 684 3335  763  193]\n",
      " [  91 1435 1718  110]\n",
      " [  29  106   22 1687]]\n",
      "MLP Classifier Balanced Scaled\n",
      "('Price Sensitivity Training: ', 0.66947256887214501)\n",
      "[[2612  912  408  304]\n",
      " [1186 1749 1085  208]\n",
      " [ 377  762 2964  185]\n",
      " [  95   21   72 4048]]\n",
      "('Price Sensitivity Testing: ', 0.58768197088465846)\n",
      "[[1951  718  313  240]\n",
      " [1429 1933 1358  255]\n",
      " [ 323  648 2239  144]\n",
      " [  42   12   41 1749]]\n",
      "MLP Classifier Scaled, tuned\n",
      "('Price Sensitivity Training: ', 0.58453317975299157)\n",
      "[[2734 3741  219  773]\n",
      " [1442 7841 1518  827]\n",
      " [ 191 3553 3613  579]\n",
      " [  17  106   19 4081]]\n",
      "('Price Sensitivity Testing: ', 0.587010078387458)\n",
      "[[1170 1612  100  340]\n",
      " [ 576 3386  630  383]\n",
      " [  72 1511 1542  229]\n",
      " [   9   61    9 1765]]\n"
     ]
    }
   ],
   "source": [
    "#requires sklearn 0.18\n",
    "\n",
    "\n",
    "from sklearn.neural_network import MLPClassifier\n",
    "from sklearn.preprocessing import StandardScaler #from http://www.kdnuggets.com/2016/10/beginners-guide-neural-networks-python-scikit-learn.html/2\n",
    "\n",
    "scaler=StandardScaler()\n",
    "balanced_scaler=StandardScaler()\n",
    "\n",
    "scaler.fit(train_X)\n",
    "balanced_scaler.fit(balanced_PS_train_X)\n",
    "\n",
    "scaled_X_train=scaler.transform(train_X)\n",
    "scaled_X_test=scaler.transform(test_X)\n",
    "scaled_balanced_PS_X_train=balanced_scaler.transform(balanced_PS_train_X)\n",
    "scaled_balanced_PS_X_test=balanced_scaler.transform(test_X)\n",
    "\n",
    "ann_PS = MLPClassifier(solver='lbfgs', alpha=1e-5, hidden_layer_sizes=(100, 100,100), random_state=42)\n",
    "balanced_ann_PS = MLPClassifier(solver='lbfgs', alpha=1e-5, hidden_layer_sizes=(100, 100,100), random_state=42)\n",
    "scaled_ann_PS = MLPClassifier(solver='lbfgs', alpha=1e-5, hidden_layer_sizes=(100, 100,100), random_state=42)\n",
    "scaled_balanced_ann_PS = MLPClassifier(solver='lbfgs', alpha=1e-5, hidden_layer_sizes=(100, 100,100), random_state=42)\n",
    "#ann_LS = MLPClassifier(solver='lbfgs', alpha=1e-5, hidden_layer_sizes=(5, 2), random_state=1)\n",
    "\n",
    "ann_PS = ann_PS.fit(train_X, train_y_PS)\n",
    "balanced_ann_PS = balanced_ann_PS.fit(balanced_PS_train_X, balanced_PS_train_y_PS)\n",
    "scaled_ann_PS = scaled_ann_PS.fit(scaled_X_train, train_y_PS)\n",
    "scaled_balanced_ann_PS = scaled_balanced_ann_PS.fit(scaled_balanced_PS_X_train, balanced_PS_train_y_PS)\n",
    "\n",
    "\n",
    "scaled_ann_PS_2 = MLPClassifier(solver='sgd', alpha=0.0001, learning_rate_init=0.001, learning_rate='constant',\n",
    "                              hidden_layer_sizes=(200,200), random_state=42, activation='logistic', max_iter=500) \n",
    "scaled_ann_PS_2 = scaled_ann_PS_2.fit(scaled_X_train, train_y_PS)\n",
    "\n",
    "#ann_LS = ann_LS.fit(train_X, train_y_LS)\n",
    "\n",
    "tryClassifier_PS (\"MLP Classifier\",ann_PS, train_X, test_X, train_y_PS, test_y_PS)\n",
    "tryClassifier_PS (\"MLP Classifier Balanced\",balanced_ann_PS, balanced_PS_train_X, test_X, balanced_PS_train_y_PS, test_y_PS)\n",
    "tryClassifier_PS (\"MLP Classifier Scaled\",scaled_ann_PS, scaled_X_train, scaled_X_test, train_y_PS, test_y_PS)\n",
    "tryClassifier_PS (\"MLP Classifier Balanced Scaled\",scaled_balanced_ann_PS, scaled_balanced_PS_X_train, scaled_balanced_PS_X_test, balanced_PS_train_y_PS, test_y_PS)\n",
    "tryClassifier_PS (\"MLP Classifier Scaled, tuned\",scaled_ann_PS_2, scaled_X_train, scaled_X_test, train_y_PS, test_y_PS)\n"
   ]
  },
  {
   "cell_type": "code",
   "execution_count": 121,
   "metadata": {
    "collapsed": false
   },
   "outputs": [
    {
     "name": "stdout",
     "output_type": "stream",
     "text": [
      "MLP Classifier Scaled, tuned\n",
      "('Price Sensitivity Training: ', 0.60651436616113141)\n",
      "[[3134 3556  359  418]\n",
      " [1676 7661 1881  410]\n",
      " [ 266 3179 4231  260]\n",
      " [  69  180   44 3930]]\n",
      "('Price Sensitivity Testing: ', 0.603732736095558)\n",
      "[[1352 1525  163  182]\n",
      " [ 726 3269  796  184]\n",
      " [ 105 1374 1776   99]\n",
      " [  33  101   20 1690]]\n"
     ]
    }
   ],
   "source": [
    "scaled_ann_PS_2 = MLPClassifier(solver='sgd', alpha=0.0001, learning_rate_init=0.001, learning_rate='constant',\n",
    "                              hidden_layer_sizes=(100,100,100), random_state=42, activation='logistic', max_iter=500) \n",
    "scaled_ann_PS_2 = MLPClassifier(solver='lbfgs', alpha=0.0001, hidden_layer_sizes=(100, 100), random_state=42, \n",
    "                                activation='logistic')\n",
    "scaled_ann_PS_2 = scaled_ann_PS_2.fit(scaled_X_train, train_y_PS)\n",
    "#record is .0606\n",
    "tryClassifier_PS (\"MLP Classifier Scaled, tuned\",scaled_ann_PS_2, scaled_X_train, scaled_X_test, train_y_PS, test_y_PS)\n"
   ]
  },
  {
   "cell_type": "code",
   "execution_count": null,
   "metadata": {
    "collapsed": true
   },
   "outputs": [],
   "source": [
    "sample output:\n",
    "    MLP Classifier\n",
    "('Price Sensitivity Training: ', 0.5092788123120241)\n",
    "[[2191 5050  208   18]\n",
    " [1589 8793 1231   15]\n",
    " [ 272 5024 2627   13]\n",
    " [  59 1850    8 2306]]\n",
    "('Price Sensitivity Testing: ', 0.51325121313923106)\n",
    "[[ 947 2172   93   10]\n",
    " [ 670 3762  538    5]\n",
    " [ 121 2064 1167    2]\n",
    " [  25  814    6  999]]\n",
    "MLP Classifier Balanced\n",
    "('Price Sensitivity Training: ', 0.60448551919001647)\n",
    "[[2786  695  308  447]\n",
    " [1862 1186  859  321]\n",
    " [ 908  858 2220  302]\n",
    " [ 115   12   32 4077]]\n",
    "('Price Sensitivity Testing: ', 0.52541993281075028)\n",
    "[[2134  485  254  349]\n",
    " [2181 1390 1021  383]\n",
    " [ 709  679 1742  224]\n",
    " [  49    6   17 1772]]\n",
    "MLP Classifier Scaled\n",
    "('Price Sensitivity Training: ', 0.59982722211556916)\n",
    "[[3023 3711  295  438]\n",
    " [1649 7746 1804  429]\n",
    " [ 232 3375 4048  281]\n",
    " [  52  203   38 3930]]\n",
    "('Price Sensitivity Testing: ', 0.59977603583426653)\n",
    "[[1294 1596  138  194]\n",
    " [ 684 3335  763  193]\n",
    " [  91 1435 1718  110]\n",
    " [  29  106   22 1687]]\n",
    "MLP Classifier Balanced Scaled\n",
    "('Price Sensitivity Training: ', 0.66947256887214501)\n",
    "[[2612  912  408  304]\n",
    " [1186 1749 1085  208]\n",
    " [ 377  762 2964  185]\n",
    " [  95   21   72 4048]]\n",
    "('Price Sensitivity Testing: ', 0.58768197088465846)\n",
    "[[1951  718  313  240]\n",
    " [1429 1933 1358  255]\n",
    " [ 323  648 2239  144]\n",
    " [  42   12   41 1749]]"
   ]
  },
  {
   "cell_type": "code",
   "execution_count": 19,
   "metadata": {
    "collapsed": false
   },
   "outputs": [
    {
     "name": "stdout",
     "output_type": "stream",
     "text": [
      "('LifeStage Training: ', 0.48803353170794139)\n",
      "[[  443     8  2599   224   183   266]\n",
      " [   48     3   867    21    68   248]\n",
      " [  551    12 13448   287   378   820]\n",
      " [  279     1  1805   242    58   118]\n",
      " [  244     9  3418    98   223   477]\n",
      " [  125    10  2539    80   160   894]]\n",
      "('LifeStage Testing: ', 0.48682344158268009)\n",
      "[[ 190    2 1134   93   87  130]\n",
      " [  13    0  362    7   34   85]\n",
      " [ 219    7 5734  138  158  374]\n",
      " [ 129    2  775  118   16   57]\n",
      " [ 102    4 1435   49  106  210]\n",
      " [  66    4 1078   31   73  373]]\n",
      "('LifeStage Training: ', 0.30006779661016947)\n",
      "[[217 174 280 199 146 208]\n",
      " [ 87 353 191  70 133 375]\n",
      " [101 127 657  79 108 178]\n",
      " [201 106 374 320  97 145]\n",
      " [114 219 329  85 196 294]\n",
      " [ 82 243 217  67 133 470]]\n",
      "('LifeStage Testing: ', 0.36677864874953342)\n",
      "[[ 277  225  391  284  184  275]\n",
      " [  37  138   95   26   45  160]\n",
      " [ 514  712 3379  432  526 1067]\n",
      " [ 167  122  337  256   89  126]\n",
      " [ 208  337  491  149  269  452]\n",
      " [ 103  321  317  105  185  594]]\n",
      "('LifeStage Training: ', 0.65879567415370832)\n",
      "[[ 1549    23  1604   264   181   102]\n",
      " [   67   277   556    10    77   268]\n",
      " [  360    39 13814   339   567   377]\n",
      " [  221     3  1015  1222    28    14]\n",
      " [  222    23  2312    45  1625   242]\n",
      " [  108    65  1285    31   216  2103]]\n",
      "('LifeStage Testing: ', 0.4870474057484136)\n",
      "[[ 282   23  896  195  125  115]\n",
      " [  33   19  273   10   56  110]\n",
      " [ 335   54 5167  221  448  405]\n",
      " [ 168    4  592  279   34   20]\n",
      " [ 174   26 1148   55  330  173]\n",
      " [ 105   54  799   30  190  447]]\n",
      "('LifeStage Training: ', 0.78481355932203389)\n",
      "[[ 940   34  109   74   50   17]\n",
      " [  40  975  107   13   36   38]\n",
      " [  42   27  972   67   98   44]\n",
      " [  46   18  144 1003   26    6]\n",
      " [  38   29  159   27  946   38]\n",
      " [  32   42  102   19   65  952]]\n",
      "('LifeStage Testing: ', 0.44471817842478539)\n",
      "[[ 593  185  213  288  219  138]\n",
      " [  19  308   62   17   48   47]\n",
      " [ 645  644 3126  666  946  603]\n",
      " [ 193   50  177  583   64   30]\n",
      " [ 236  236  352  139  706  237]\n",
      " [ 151  314  230   87  202  641]]\n"
     ]
    }
   ],
   "source": [
    "#requires sklearn 0.18\n",
    "\n",
    "\n",
    "from sklearn.neural_network import MLPClassifier\n",
    "from sklearn.preprocessing import StandardScaler #from http://www.kdnuggets.com/2016/10/beginners-guide-neural-networks-python-scikit-learn.html/2\n",
    "\n",
    "scaler=StandardScaler()\n",
    "balanced_scaler=StandardScaler()\n",
    "\n",
    "scaler.fit(train_X)\n",
    "balanced_scaler.fit(balanced_LS_train_X)\n",
    "\n",
    "scaled_X_train=scaler.transform(train_X)\n",
    "scaled_X_test=scaler.transform(test_X)\n",
    "scaled_balanced_LS_X_train=balanced_scaler.transform(balanced_LS_train_X)\n",
    "scaled_balanced_LS_X_test=balanced_scaler.transform(test_X)\n",
    "\n",
    "ann_LS = MLPClassifier(solver='lbfgs', alpha=1e-5, hidden_layer_sizes=(100, 100,100), random_state=42)\n",
    "balanced_ann_LS = MLPClassifier(solver='lbfgs', alpha=1e-5, hidden_layer_sizes=(100, 100,100), random_state=42)\n",
    "scaled_ann_LS = MLPClassifier(solver='lbfgs', alpha=1e-5, hidden_layer_sizes=(100, 100,100), random_state=42)\n",
    "scaled_balanced_ann_LS = MLPClassifier(solver='lbfgs', alpha=1e-5, hidden_layer_sizes=(100, 100,100), random_state=42)\n",
    "#ann_LS = MLPClassifier(solver='lbfgs', alpha=1e-5, hidden_layer_sizes=(5, 2), random_state=1)\n",
    "\n",
    "ann_LS = ann_LS.fit(train_X, train_y_LS)\n",
    "balanced_ann_LS = balanced_ann_LS.fit(balanced_LS_train_X, balanced_LS_train_y_LS)\n",
    "scaled_ann_LS = scaled_ann_LS.fit(scaled_X_train, train_y_LS)\n",
    "scaled_balanced_ann_LS = scaled_balanced_ann_LS.fit(scaled_balanced_LS_X_train, balanced_LS_train_y_LS)\n",
    "\n",
    "\n",
    "#ann_LS = ann_LS.fit(train_X, train_y_LS)\n",
    "\n",
    "tryClassifier_LS (\"MLP Classifier\",ann_LS, train_X, test_X, train_y_LS, test_y_LS)\n",
    "tryClassifier_LS (\"MLP Classifier Balanced\",balanced_ann_LS, balanced_LS_train_X, test_X, balanced_LS_train_y_LS, test_y_LS)\n",
    "tryClassifier_LS (\"MLP Classifier Scaled\",scaled_ann_LS, scaled_X_train, scaled_X_test, train_y_LS, test_y_LS)\n",
    "tryClassifier_LS (\"MLP Classifier Balanced Scaled\",scaled_balanced_ann_LS, scaled_balanced_LS_X_train, scaled_balanced_LS_X_test, balanced_LS_train_y_LS, test_y_LS)\n"
   ]
  },
  {
   "cell_type": "markdown",
   "metadata": {},
   "source": [
    "sample output\n",
    "('LifeStage Training: ', 0.48803353170794139)\n",
    "[[  443     8  2599   224   183   266]\n",
    " [   48     3   867    21    68   248]\n",
    " [  551    12 13448   287   378   820]\n",
    " [  279     1  1805   242    58   118]\n",
    " [  244     9  3418    98   223   477]\n",
    " [  125    10  2539    80   160   894]]\n",
    "('LifeStage Testing: ', 0.48682344158268009)\n",
    "[[ 190    2 1134   93   87  130]\n",
    " [  13    0  362    7   34   85]\n",
    " [ 219    7 5734  138  158  374]\n",
    " [ 129    2  775  118   16   57]\n",
    " [ 102    4 1435   49  106  210]\n",
    " [  66    4 1078   31   73  373]]\n",
    "('LifeStage Training: ', 0.30006779661016947)\n",
    "[[217 174 280 199 146 208]\n",
    " [ 87 353 191  70 133 375]\n",
    " [101 127 657  79 108 178]\n",
    " [201 106 374 320  97 145]\n",
    " [114 219 329  85 196 294]\n",
    " [ 82 243 217  67 133 470]]\n",
    "('LifeStage Testing: ', 0.36677864874953342)\n",
    "[[ 277  225  391  284  184  275]\n",
    " [  37  138   95   26   45  160]\n",
    " [ 514  712 3379  432  526 1067]\n",
    " [ 167  122  337  256   89  126]\n",
    " [ 208  337  491  149  269  452]\n",
    " [ 103  321  317  105  185  594]]\n",
    "('LifeStage Training: ', 0.65879567415370832)\n",
    "[[ 1549    23  1604   264   181   102]\n",
    " [   67   277   556    10    77   268]\n",
    " [  360    39 13814   339   567   377]\n",
    " [  221     3  1015  1222    28    14]\n",
    " [  222    23  2312    45  1625   242]\n",
    " [  108    65  1285    31   216  2103]]\n",
    "('LifeStage Testing: ', 0.4870474057484136)\n",
    "[[ 282   23  896  195  125  115]\n",
    " [  33   19  273   10   56  110]\n",
    " [ 335   54 5167  221  448  405]\n",
    " [ 168    4  592  279   34   20]\n",
    " [ 174   26 1148   55  330  173]\n",
    " [ 105   54  799   30  190  447]]\n",
    "('LifeStage Training: ', 0.78481355932203389)\n",
    "[[ 940   34  109   74   50   17]\n",
    " [  40  975  107   13   36   38]\n",
    " [  42   27  972   67   98   44]\n",
    " [  46   18  144 1003   26    6]\n",
    " [  38   29  159   27  946   38]\n",
    " [  32   42  102   19   65  952]]\n",
    "('LifeStage Testing: ', 0.44471817842478539)\n",
    "[[ 593  185  213  288  219  138]\n",
    " [  19  308   62   17   48   47]\n",
    " [ 645  644 3126  666  946  603]\n",
    " [ 193   50  177  583   64   30]\n",
    " [ 236  236  352  139  706  237]\n",
    " [ 151  314  230   87  202  641]]"
   ]
  },
  {
   "cell_type": "code",
   "execution_count": 32,
   "metadata": {
    "collapsed": false
   },
   "outputs": [
    {
     "name": "stdout",
     "output_type": "stream",
     "text": [
      "AdaBoost Classifier - PS Balanced\n",
      "('Price Sensitivity Training: ', 0.59177066164351311)\n",
      "[[1736 1230 1186   84]\n",
      " [ 946 1327 1883   72]\n",
      " [ 478  769 2982   59]\n",
      " [  83   60   85 4008]]\n",
      "('Price Sensitivity Testing: ', 0.49779768570362076)\n",
      "[[1255  977  904   86]\n",
      " [1139 1473 2244  119]\n",
      " [ 396  664 2233   61]\n",
      " [  53   32   52 1707]]\n"
     ]
    }
   ],
   "source": [
    "from sklearn.ensemble import AdaBoostClassifier\n",
    "#ada_PS = AdaBoostClassifier(n_estimators=1000)\n",
    "balanced_ada_PS = AdaBoostClassifier(n_estimators=10000)\n",
    "#ada_LS = AdaBoostClassifier(n_estimators=1000)\n",
    "\n",
    "#ada_PS = ada_PS.fit(train_X, train_y_PS)\n",
    "balanced_ada_PS = balanced_ada_PS.fit(balanced_PS_train_X, balanced_PS_train_y_PS)\n",
    "#ada_LS = ada_LS.fit(train_X, train_y_LS)\n",
    "\n",
    "\n",
    "#tryClassifier_PS (\"AdaBoost Classifier - PS Unbalanced\",ada_PS, train_X, test_X, train_y_PS, test_y_PS)\n",
    "tryClassifier_PS (\"AdaBoost Classifier - PS Balanced\",balanced_ada_PS, balanced_PS_train_X, test_X, balanced_PS_train_y_PS, test_y_PS)\n",
    "#tryClassifier_LS (\"AdaBoost Classifier - LS Unbalanced\",ada_LS, train_X, test_X, train_y_LS, test_y_LS)\n"
   ]
  },
  {
   "cell_type": "code",
   "execution_count": null,
   "metadata": {
    "collapsed": true
   },
   "outputs": [],
   "source": [
    "Sample Output:\n",
    "    AdaBoost Classifier - PS Balanced\n",
    "('Price Sensitivity Training: ', 0.59177066164351311)\n",
    "[[1736 1230 1186   84]\n",
    " [ 946 1327 1883   72]\n",
    " [ 478  769 2982   59]\n",
    " [  83   60   85 4008]]\n",
    "('Price Sensitivity Testing: ', 0.49779768570362076)\n",
    "[[1255  977  904   86]\n",
    " [1139 1473 2244  119]\n",
    " [ 396  664 2233   61]\n",
    " [  53   32   52 1707]]\n"
   ]
  },
  {
   "cell_type": "code",
   "execution_count": 20,
   "metadata": {
    "collapsed": false
   },
   "outputs": [
    {
     "name": "stdout",
     "output_type": "stream",
     "text": [
      "('LifeStage Training: ', 0.40461016949152545)\n",
      "[[380 162 109 308 118 147]\n",
      " [ 89 518  90  46 151 315]\n",
      " [117 200 470 182 134 147]\n",
      " [185  44  82 806  67  59]\n",
      " [164 285 125  91 320 252]\n",
      " [ 84 390  82  50 116 490]]\n",
      "('LifeStage Testing: ', 0.31295259425158639)\n",
      "[[ 421  229  155  421  198  212]\n",
      " [  39  201   48   27   59  127]\n",
      " [ 649 1169 1938 1034  845  995]\n",
      " [ 187   44  104  638   68   56]\n",
      " [ 254  458  207  169  413  405]\n",
      " [ 144  500  140   77  183  581]]\n"
     ]
    }
   ],
   "source": [
    "from sklearn.ensemble import AdaBoostClassifier\n",
    "#ada_LS = AdaBoostClassifier(n_estimators=1000)\n",
    "balanced_ada_LS = AdaBoostClassifier(n_estimators=10000)\n",
    "#ada_LS = AdaBoostClassifier(n_estimators=1000)\n",
    "\n",
    "#ada_LS = ada_LS.fit(train_X, train_y_LS)\n",
    "balanced_ada_LS = balanced_ada_LS.fit(balanced_LS_train_X, balanced_LS_train_y_LS)\n",
    "#ada_LS = ada_LS.fit(train_X, train_y_LS)\n",
    "\n",
    "\n",
    "#tryClassifier_LS (\"AdaBoost Classifier - LS Unbalanced\",ada_LS, train_X, test_X, train_y_LS, test_y_LS)\n",
    "tryClassifier_LS (\"AdaBoost Classifier - LS Balanced\",balanced_ada_LS, balanced_LS_train_X, test_X, balanced_LS_train_y_LS, test_y_LS)\n",
    "#tryClassifier_LS (\"AdaBoost Classifier - LS Unbalanced\",ada_LS, train_X, test_X, train_y_LS, test_y_LS)\n"
   ]
  },
  {
   "cell_type": "markdown",
   "metadata": {
    "collapsed": false
   },
   "source": [
    "# initial result summary\n",
    "For PS, it seems that random forest has the highest accuracy, so we can do a grid-search around it"
   ]
  },
  {
   "cell_type": "code",
   "execution_count": 27,
   "metadata": {
    "collapsed": false
   },
   "outputs": [
    {
     "name": "stdout",
     "output_type": "stream",
     "text": [
      "Random Forest\n",
      "('Price Sensitivity Training: ', 1.0)\n",
      "[[4236    0    0    0]\n",
      " [   0 4228    0    0]\n",
      " [   0    0 4288    0]\n",
      " [   0    0    0 4236]]\n",
      "('Price Sensitivity Testing: ', 0.71556550951847708)\n",
      "[[2486  362  222  152]\n",
      " [1134 2533 1090  218]\n",
      " [ 197  308 2739  110]\n",
      " [   9    1    7 1827]]\n"
     ]
    },
    {
     "ename": "NameError",
     "evalue": "name 'grid_rfc_ps' is not defined",
     "output_type": "error",
     "traceback": [
      "\u001b[0;31m---------------------------------------------------------------------------\u001b[0m",
      "\u001b[0;31mNameError\u001b[0m                                 Traceback (most recent call last)",
      "\u001b[0;32m<ipython-input-27-fd6d1aa0e408>\u001b[0m in \u001b[0;36m<module>\u001b[0;34m()\u001b[0m\n\u001b[1;32m     23\u001b[0m \u001b[0mgrid_balanced_rfc_ps\u001b[0m\u001b[1;33m.\u001b[0m\u001b[0mbest_estimator_\u001b[0m\u001b[1;33m\u001b[0m\u001b[0m\n\u001b[1;32m     24\u001b[0m \u001b[0mtryClassifier_PS\u001b[0m \u001b[1;33m(\u001b[0m\u001b[1;34m\"Random Forest\"\u001b[0m\u001b[1;33m,\u001b[0m \u001b[0mgrid_balanced_rfc_ps\u001b[0m\u001b[1;33m,\u001b[0m \u001b[0mbalanced_PS_train_X\u001b[0m\u001b[1;33m,\u001b[0m \u001b[0mtest_X\u001b[0m\u001b[1;33m,\u001b[0m \u001b[0mbalanced_PS_train_y_PS\u001b[0m\u001b[1;33m,\u001b[0m \u001b[0mtest_y_PS\u001b[0m\u001b[1;33m)\u001b[0m\u001b[1;33m\u001b[0m\u001b[0m\n\u001b[0;32m---> 25\u001b[0;31m \u001b[1;32mprint\u001b[0m\u001b[1;33m(\u001b[0m\u001b[0mgrid_rfc_ps\u001b[0m\u001b[1;33m.\u001b[0m\u001b[0mbest_params_\u001b[0m\u001b[1;33m)\u001b[0m\u001b[1;33m\u001b[0m\u001b[0m\n\u001b[0m\u001b[1;32m     26\u001b[0m \u001b[1;33m\u001b[0m\u001b[0m\n\u001b[1;32m     27\u001b[0m \u001b[1;31m#grid_rfc_ls.best_estimator_\u001b[0m\u001b[1;33m\u001b[0m\u001b[1;33m\u001b[0m\u001b[0m\n",
      "\u001b[0;31mNameError\u001b[0m: name 'grid_rfc_ps' is not defined"
     ]
    }
   ],
   "source": [
    "from sklearn.grid_search import GridSearchCV\n",
    "\n",
    "params = {'n_estimators': [1000,3000,5000], 'max_features': [5,10,15]} #, 'random_state':42, 'criterion':\"entropy\"\n",
    "\n",
    "#rfc_ps=RandomForestClassifier()\n",
    "rfc_balanced_ps=RandomForestClassifier()\n",
    "\n",
    "#rfc_ls=RandomForestClassifier()\n",
    "\n",
    "#grid_rfc_ps = GridSearchCV(estimator=rfc_ps, param_grid=params)\n",
    "grid_balanced_rfc_ps = GridSearchCV(estimator=rfc_balanced_ps, param_grid=params)\n",
    "#grid_rfc_ls = GridSearchCV(estimator=rfc_ls, param_grid=params)\n",
    "\n",
    "# Fit the grid search object to the data to compute the optimal model\n",
    "#grid_rfc_ps = grid_rfc_ps.fit(train_X, train_y_PS)\n",
    "grid_balanced_rfc_ps = grid_balanced_rfc_ps.fit(balanced_PS_train_X, balanced_PS_train_y_PS)\n",
    "#grid_rfc_ls = grid_rfc_ls.fit(train_X, train_y_LS)\n",
    "\n",
    "# Return the optimal model after fitting the data\n",
    "#grid_rfc_ps.best_estimator_\n",
    "#tryClassifier_PS (\"Random Forest\", grid_rfc_ps, train_X, test_X, train_y_PS, test_y_PS)\n",
    "\n",
    "\n",
    "tryClassifier_PS (\"Random Forest\", grid_balanced_rfc_ps, balanced_PS_train_X, test_X, balanced_PS_train_y_PS, test_y_PS)\n",
    "#print(grid_rfc_ps.best_params_)\n",
    "\n",
    "#grid_rfc_ls.best_estimator_\n",
    "\n",
    "#tryClassifier_LS (\"Random Forest\", rfc_balanced_ls, balanced_LS_train_X, balanced_LS_test_X, balanced_LS_train_y_LS, balanced_LS_test_y_LS)\n",
    "print(grid_balanced_rfc_ps.best_estimator_)\n",
    "print(grid_balanced_rfc_ps.best_params_)"
   ]
  },
  {
   "cell_type": "markdown",
   "metadata": {},
   "source": [
    "##sample output\n",
    "Random Forest\n",
    "('Price Sensitivity Training: ', 1.0)\n",
    "[[4236    0    0    0]\n",
    " [   0 4228    0    0]\n",
    " [   0    0 4288    0]\n",
    " [   0    0    0 4236]]\n",
    "('Price Sensitivity Testing: ', 0.71601343784994398)\n",
    "[[2492  358  224  148]\n",
    " [1115 2566 1075  219]\n",
    " [ 193  350 2705  106]\n",
    " [   7    2    7 1828]]\n",
    "{'max_features': 5, 'n_estimators': 500}\n"
   ]
  },
  {
   "cell_type": "code",
   "execution_count": 7,
   "metadata": {
    "collapsed": false
   },
   "outputs": [
    {
     "name": "stderr",
     "output_type": "stream",
     "text": [
      "C:\\Users\\leander.quiring\\AppData\\Local\\Continuum\\Anaconda3\\envs\\python2\\lib\\site-packages\\sklearn\\cross_validation.py:44: DeprecationWarning: This module was deprecated in version 0.18 in favor of the model_selection module into which all the refactored classes and functions are moved. Also note that the interface of the new CV iterators are different from that of this module. This module will be removed in 0.20.\n",
      "  \"This module will be removed in 0.20.\", DeprecationWarning)\n",
      "C:\\Users\\leander.quiring\\AppData\\Local\\Continuum\\Anaconda3\\envs\\python2\\lib\\site-packages\\sklearn\\grid_search.py:43: DeprecationWarning: This module was deprecated in version 0.18 in favor of the model_selection module into which all the refactored classes and functions are moved. This module will be removed in 0.20.\n",
      "  DeprecationWarning)\n"
     ]
    },
    {
     "name": "stdout",
     "output_type": "stream",
     "text": [
      "Gradient Boosting Classifier, GridSearch\n",
      "('Price Sensitivity Training: ', 0.838650812338121)\n",
      "[[3551  343  231  111]\n",
      " [ 601 2971  540  116]\n",
      " [ 240  391 3550  107]\n",
      " [  31   10   20 4175]]\n",
      "('Price Sensitivity Testing: ', 0.66629339305711088)\n",
      "[[2278  557  245  142]\n",
      " [1244 2399 1151  181]\n",
      " [ 282  529 2450   93]\n",
      " [  21    8   17 1798]]\n"
     ]
    },
    {
     "ename": "NameError",
     "evalue": "name 'grid_balanced_rfc_ps' is not defined",
     "output_type": "error",
     "traceback": [
      "\u001b[0;31m---------------------------------------------------------------------------\u001b[0m",
      "\u001b[0;31mNameError\u001b[0m                                 Traceback (most recent call last)",
      "\u001b[0;32m<ipython-input-7-dd70c09db2d4>\u001b[0m in \u001b[0;36m<module>\u001b[0;34m()\u001b[0m\n\u001b[1;32m      6\u001b[0m \u001b[0mgrid_balanced_gbc_ps\u001b[0m \u001b[1;33m=\u001b[0m \u001b[0mgrid_balanced_gbc_ps\u001b[0m\u001b[1;33m.\u001b[0m\u001b[0mfit\u001b[0m\u001b[1;33m(\u001b[0m\u001b[0mbalanced_PS_train_X\u001b[0m\u001b[1;33m,\u001b[0m \u001b[0mbalanced_PS_train_y_PS\u001b[0m\u001b[1;33m)\u001b[0m\u001b[1;33m\u001b[0m\u001b[0m\n\u001b[1;32m      7\u001b[0m \u001b[0mtryClassifier_PS\u001b[0m \u001b[1;33m(\u001b[0m\u001b[1;34m\"Gradient Boosting Classifier, GridSearch\"\u001b[0m\u001b[1;33m,\u001b[0m \u001b[0mgrid_balanced_gbc_ps\u001b[0m\u001b[1;33m,\u001b[0m \u001b[0mbalanced_PS_train_X\u001b[0m\u001b[1;33m,\u001b[0m \u001b[0mtest_X\u001b[0m\u001b[1;33m,\u001b[0m \u001b[0mbalanced_PS_train_y_PS\u001b[0m\u001b[1;33m,\u001b[0m \u001b[0mtest_y_PS\u001b[0m\u001b[1;33m)\u001b[0m\u001b[1;33m\u001b[0m\u001b[0m\n\u001b[0;32m----> 8\u001b[0;31m \u001b[1;32mprint\u001b[0m\u001b[1;33m(\u001b[0m\u001b[0mgrid_balanced_rfc_ps\u001b[0m\u001b[1;33m.\u001b[0m\u001b[0mbest_estimator_\u001b[0m\u001b[1;33m)\u001b[0m\u001b[1;33m\u001b[0m\u001b[0m\n\u001b[0m\u001b[1;32m      9\u001b[0m \u001b[1;32mprint\u001b[0m\u001b[1;33m(\u001b[0m\u001b[0mgrid_balanced_rfc_ps\u001b[0m\u001b[1;33m.\u001b[0m\u001b[0mbest_params_\u001b[0m\u001b[1;33m)\u001b[0m\u001b[1;33m\u001b[0m\u001b[0m\n",
      "\u001b[0;31mNameError\u001b[0m: name 'grid_balanced_rfc_ps' is not defined"
     ]
    }
   ],
   "source": [
    "from sklearn.ensemble import GradientBoostingClassifier\n",
    "from sklearn.grid_search import GridSearchCV\n",
    "params = {'learning_rate': [0.01,0.05,0.1], 'n_estimators': [500,1000,3000], 'max_depth':[5,10,15]} \n",
    "balanced_gbc_ps=GradientBoostingClassifier()\n",
    "grid_balanced_gbc_ps = GridSearchCV(estimator=balanced_gbc_ps, param_grid=params)\n",
    "grid_balanced_gbc_ps = grid_balanced_gbc_ps.fit(balanced_PS_train_X, balanced_PS_train_y_PS)\n",
    "tryClassifier_PS (\"Gradient Boosting Classifier, GridSearch\", grid_balanced_gbc_ps, balanced_PS_train_X, test_X, balanced_PS_train_y_PS, test_y_PS)\n",
    "\n",
    "print(grid_balanced_gbc_ps.best_estimator_)\n",
    "print(grid_balanced_gbc_ps.best_params_)"
   ]
  },
  {
   "cell_type": "code",
   "execution_count": null,
   "metadata": {
    "collapsed": true
   },
   "outputs": [],
   "source": [
    "sample output:\n",
    "Gradient Boosting Classifier, GridSearch\n",
    "('Price Sensitivity Training: ', 0.838650812338121)\n",
    "[[3551  343  231  111]\n",
    " [ 601 2971  540  116]\n",
    " [ 240  391 3550  107]\n",
    " [  31   10   20 4175]]\n",
    "('Price Sensitivity Testing: ', 0.66629339305711088)\n",
    "[[2278  557  245  142]\n",
    " [1244 2399 1151  181]\n",
    " [ 282  529 2450   93]\n",
    " [  21    8   17 1798]]\n",
    "\n",
    "GradientBoostingClassifier(criterion='friedman_mse', init=None,\n",
    "              learning_rate=0.01, loss='deviance', max_depth=5,\n",
    "              max_features=None, max_leaf_nodes=None,\n",
    "              min_impurity_split=1e-07, min_samples_leaf=1,\n",
    "              min_samples_split=2, min_weight_fraction_leaf=0.0,\n",
    "              n_estimators=1000, presort='auto', random_state=None,\n",
    "              subsample=1.0, verbose=0, warm_start=False)\n",
    "{'n_estimators': 1000, 'learning_rate': 0.01, 'max_depth': 5}"
   ]
  },
  {
   "cell_type": "code",
   "execution_count": 31,
   "metadata": {
    "collapsed": false
   },
   "outputs": [
    {
     "name": "stdout",
     "output_type": "stream",
     "text": [
      "('LifeStage Training: ', 0.53561144173545783)\n",
      "[[  628     0  2332   469   129   165]\n",
      " [   53     0   789     7    30   376]\n",
      " [  475     0 13352   435   310   924]\n",
      " [  272     0  1335   860    21    15]\n",
      " [  202     0  3349    99   393   426]\n",
      " [  116     0  2058    45    82  1507]]\n",
      "('LifeStage Testing: ', 0.3384098544232923)\n",
      "[[ 128    0 1162  268    4   74]\n",
      " [  89    0  338   12    2   60]\n",
      " [1024    0 3926  514   36 1130]\n",
      " [  65    0  743  253    1   35]\n",
      " [ 251    0 1272  131    9  243]\n",
      " [ 248    0 1094   61    5  217]]\n",
      "MLPClassifier(activation='relu', alpha=1e-05, batch_size='auto', beta_1=0.9,\n",
      "       beta_2=0.999, early_stopping=False, epsilon=1e-08,\n",
      "       hidden_layer_sizes=(10, 10), learning_rate='constant',\n",
      "       learning_rate_init=0.001, max_iter=200, momentum=0.9,\n",
      "       nesterovs_momentum=True, power_t=0.5, random_state=42, shuffle=True,\n",
      "       solver='lbfgs', tol=0.0001, validation_fraction=0.1, verbose=False,\n",
      "       warm_start=False)\n",
      "{'alpha': 1e-05, 'solver': 'lbfgs', 'random_state': 42, 'hidden_layer_sizes': (10, 10)}\n",
      "{'rank_test_score': array([6, 3, 1, 5, 2, 4]), 'split6_test_score': array([ 0.49231754,  0.52400768,  0.51920615,  0.48783611,  0.52496799,\n",
      "        0.51696543]), 'split7_train_score': array([ 0.68602915,  0.53430501,  0.53348738,  0.6883754 ,  0.53274085,\n",
      "        0.53380732]), 'split0_train_score': array([ 0.69263315,  0.5364787 ,  0.53263884,  0.68424234,  0.53558985,\n",
      "        0.53246107]), 'split2_test_score': array([ 0.4766624 ,  0.50639386,  0.50543478,  0.48369565,  0.50767263,\n",
      "        0.50575448]), 'param_solver': masked_array(data = ['lbfgs' 'lbfgs' 'lbfgs' 'lbfgs' 'lbfgs' 'lbfgs'],\n",
      "             mask = [False False False False False False],\n",
      "       fill_value = ?)\n",
      ", 'mean_fit_time': array([ 56.84059997,   5.7680001 ,   6.55530005,  54.18259995,\n",
      "         5.15699999,   6.37349999]), 'split3_train_score': array([ 0.67694113,  0.53580063,  0.53494738,  0.6804252 ,  0.5353029 ,\n",
      "        0.53647611]), 'split6_train_score': array([ 0.6792748 ,  0.5394952 ,  0.53540704,  0.69225027,  0.53906861,\n",
      "        0.53679346]), 'split9_test_score': array([ 0.48142217,  0.50928892,  0.51121076,  0.48750801,  0.5128123 ,\n",
      "        0.50992953]), 'std_test_score': array([ 0.00604433,  0.00622338,  0.00645756,  0.00520804,  0.00583122,\n",
      "        0.00653962]), 'param_hidden_layer_sizes': masked_array(data = [(100, 100, 100) 10 (10, 10) (100, 100, 100) 10 (10, 10)],\n",
      "             mask = [False False False False False False],\n",
      "       fill_value = ?)\n",
      ", 'params': ({'alpha': 1e-05, 'solver': 'lbfgs', 'random_state': 42, 'hidden_layer_sizes': (100, 100, 100)}, {'alpha': 1e-05, 'solver': 'lbfgs', 'random_state': 42, 'hidden_layer_sizes': 10}, {'alpha': 1e-05, 'solver': 'lbfgs', 'random_state': 42, 'hidden_layer_sizes': (10, 10)}, {'alpha': 0.0005, 'solver': 'lbfgs', 'random_state': 42, 'hidden_layer_sizes': (100, 100, 100)}, {'alpha': 0.0005, 'solver': 'lbfgs', 'random_state': 42, 'hidden_layer_sizes': 10}, {'alpha': 0.0005, 'solver': 'lbfgs', 'random_state': 42, 'hidden_layer_sizes': (10, 10)}), 'split8_test_score': array([ 0.48735191,  0.51552994,  0.51585014,  0.4870317 ,  0.51488953,\n",
      "        0.51424912]), 'std_score_time': array([ 0.04450662,  0.00241657,  0.00048987,  0.01181909,  0.00080001,\n",
      "        0.00030003]), 'std_fit_time': array([ 3.50003391,  1.27689371,  0.50582743,  3.03409747,  0.41147194,\n",
      "        0.64527611]), 'std_train_score': array([ 0.00639295,  0.0014219 ,  0.00176295,  0.0068687 ,  0.00180359,\n",
      "        0.00159592]), 'split4_test_score': array([ 0.47728727,  0.51695457,  0.52207294,  0.47216891,  0.51631478,\n",
      "        0.52111324]), 'split1_train_score': array([ 0.67741591,  0.53608761,  0.53711868,  0.67510489,  0.53359881,\n",
      "        0.53594539]), 'split2_train_score': array([ 0.68075802,  0.53448766,  0.53800754,  0.67809145,  0.53388324,\n",
      "        0.5364787 ]), 'split4_train_score': array([ 0.68159841,  0.53686718,  0.53519625,  0.68316268,  0.53512514,\n",
      "        0.53526735]), 'mean_score_time': array([ 0.03060005,  0.00559998,  0.00439997,  0.01910005,  0.00459998,\n",
      "        0.00410001]), 'split9_train_score': array([ 0.68889521,  0.53590218,  0.53462249,  0.67233044,  0.53767951,\n",
      "        0.53579554]), 'split5_test_score': array([ 0.49216,  0.52384,  0.5216 ,  0.48384,  0.5216 ,  0.52576]), 'param_random_state': masked_array(data = [42 42 42 42 42 42],\n",
      "             mask = [False False False False False False],\n",
      "       fill_value = ?)\n",
      ", 'mean_train_score': array([ 0.68426078,  0.53595628,  0.53566123,  0.68373813,  0.53522032,\n",
      "        0.53574294]), 'split8_train_score': array([ 0.68198784,  0.53528136,  0.5372365 ,  0.69048381,  0.53492588,\n",
      "        0.53865842]), 'split7_test_score': array([ 0.47919334,  0.51984635,  0.51760563,  0.49231754,  0.52304738,\n",
      "        0.51600512]), 'split0_test_score': array([ 0.49360614,  0.52141944,  0.53005115,  0.49040921,  0.52078005,\n",
      "        0.5230179 ]), 'mean_test_score': array([ 0.48492993,  0.51577398,  0.51702182,  0.48560184,  0.51631791,\n",
      "        0.51507007]), 'split3_test_score': array([ 0.48304543,  0.50767754,  0.51247601,  0.48400512,  0.50767754,\n",
      "        0.50575816]), 'split5_train_score': array([ 0.69707419,  0.53485726,  0.53795016,  0.69291479,  0.53428846,\n",
      "        0.53574603]), 'param_alpha': masked_array(data = [1e-05 1e-05 1e-05 0.0005 0.0005 0.0005],\n",
      "             mask = [False False False False False False],\n",
      "       fill_value = ?)\n",
      ", 'split1_test_score': array([ 0.4862532 ,  0.51278772,  0.51470588,  0.48721228,  0.51342711,\n",
      "        0.51214834])}\n"
     ]
    }
   ],
   "source": [
    "#requires sklearn 0.18\n",
    "\n",
    "\n",
    "from sklearn.neural_network import MLPClassifier\n",
    "from sklearn.preprocessing import StandardScaler #from http://www.kdnuggets.com/2016/10/beginners-guide-neural-networks-python-scikit-learn.html/2\n",
    "from sklearn.ensemble import GradientBoostingClassifier\n",
    "from sklearn.model_selection import GridSearchCV\n",
    "\n",
    "scaler=StandardScaler()\n",
    "scaler.fit(train_X)\n",
    "\n",
    "scaled_X_train=scaler.transform(train_X)\n",
    "scaled_X_test=scaler.transform(test_X)\n",
    "\n",
    "#params = {'learning_rate': [0.01,0.05,0.1], 'n_estimators': [500,1000,3000], 'max_depth':[5,10,15]} \n",
    "\n",
    "params = {'solver':[\"lbfgs\"], 'alpha':[0.00001, 0.0005], 'hidden_layer_sizes':[(100, 100,100),(10), (10,10)], 'random_state':[42]}\n",
    "scaled_ann_LS=MLPClassifier()\n",
    "\n",
    "grid_scaled_ann_LS = GridSearchCV(estimator=scaled_ann_LS, param_grid=params, n_jobs=2,cv=10)\n",
    "grid_scaled_ann_LS = grid_scaled_ann_LS.fit(scaled_X_train, train_y_LS)\n",
    "\n",
    "#scaled_ann_LS = MLPClassifier(solver='lbfgs', alpha=1e-5, hidden_layer_sizes=(100, 100,100), random_state=42)\n",
    "\n",
    "\n",
    "tryClassifier_LS (\"MLP Classifier Scaled, GridSearch\", grid_scaled_ann_LS, scaled_X_train, test_X, train_y_LS, test_y_LS)\n",
    "\n",
    "print(grid_scaled_ann_LS.best_estimator_)\n",
    "print(grid_scaled_ann_LS.best_params_)\n"
   ]
  },
  {
   "cell_type": "code",
   "execution_count": 101,
   "metadata": {
    "collapsed": false
   },
   "outputs": [
    {
     "name": "stdout",
     "output_type": "stream",
     "text": [
      "('LifeStage Training: ', 0.52201318231266403)\n",
      "[[  470     0  2667   357    58   171]\n",
      " [   39     0   848     5    23   340]\n",
      " [  388     0 13693   358   171   886]\n",
      " [  287     0  1612   579     4    21]\n",
      " [  175     0  3616    65   202   411]\n",
      " [   69     0  2286    30    52  1371]]\n",
      "('LifeStage Testing: ', 0.51086226203807394)\n",
      "[[ 190    0 1191  150   29   76]\n",
      " [  15    0  335    5    6  140]\n",
      " [ 186    0 5815  145   89  395]\n",
      " [ 149    0  708  227    5    8]\n",
      " [  78    0 1493   56   97  182]\n",
      " [  37    0 1039   15   20  514]]\n"
     ]
    }
   ],
   "source": [
    "#requires sklearn 0.18\n",
    "\n",
    "\n",
    "from sklearn.neural_network import MLPClassifier\n",
    "from sklearn.preprocessing import StandardScaler #from http://www.kdnuggets.com/2016/10/beginners-guide-neural-networks-python-scikit-learn.html/2\n",
    "\n",
    "scaler=StandardScaler()\n",
    "\n",
    "scaler.fit(train_X)\n",
    "\n",
    "scaled_X_train=scaler.transform(train_X)\n",
    "scaled_X_test=scaler.transform(test_X)\n",
    "\n",
    "scaled_ann_LS = MLPClassifier(solver='sgd', alpha=0.0001, learning_rate_init=0.001, learning_rate='constant',\n",
    "                              hidden_layer_sizes=(100,10), random_state=43, activation='logistic', max_iter=5000,\n",
    "                             )\n",
    "scaled_ann_LS = scaled_ann_LS.fit(scaled_X_train, train_y_LS)\n",
    "\n",
    "\n",
    "tryClassifier_LS (\"MLP Classifier Scaled\",scaled_ann_LS, scaled_X_train, scaled_X_test, train_y_LS, test_y_LS)\n"
   ]
  },
  {
   "cell_type": "code",
   "execution_count": null,
   "metadata": {
    "collapsed": true
   },
   "outputs": [],
   "source": [
    "scaled_ann_LS = MLPClassifier(solver='lbfgs', alpha=0.0001, learning_rate_init=0.001, learning_rate='constant',\n",
    "                              hidden_layer_sizes=(200,200), random_state=42) = .469\n",
    "scaled_ann_LS = MLPClassifier(solver='lbfgs', alpha=0.0001, learning_rate_init=0.01, learning_rate='constant',\n",
    "                              hidden_layer_sizes=(200,200), random_state=42) = .469\n",
    "scaled_ann_LS = MLPClassifier(solver='sgd', alpha=0.0001, learning_rate_init=0.001, learning_rate='constant',\n",
    "                              hidden_layer_sizes=(200,200), random_state=42) = .497, needs more iterations\n",
    "scaled_ann_LS = MLPClassifier(solver='sgd', alpha=0.0001, learning_rate_init=0.01, learning_rate='constant',\n",
    "                              hidden_layer_sizes=(200,200), random_state=42) = 0.447\n",
    "scaled_ann_LS = MLPClassifier(solver='sgd', alpha=0.0001, learning_rate_init=0.001, learning_rate='constant',\n",
    "                              hidden_layer_sizes=(200,200), random_state=42, activation='logistic') = 0.508\n",
    "scaled_ann_LS = MLPClassifier(solver='sgd', alpha=0.0001, learning_rate_init=0.001, learning_rate='constant',\n",
    "                              hidden_layer_sizes=(200,200), random_state=42, activation='logistic', max_iter=500) = 0.511\n",
    "scaled_ann_LS = MLPClassifier(solver='sgd', alpha=0.0001, learning_rate_init=0.001, learning_rate='constant',\n",
    "                              hidden_layer_sizes=(200,200), random_state=42, activation='logistic', max_iter=1000) = 0.511\n",
    "scaled_ann_LS = MLPClassifier(solver='sgd', alpha=0.0001, learning_rate_init=0.001, learning_rate='constant',\n",
    "                              hidden_layer_sizes=(20,20), random_state=42, activation='logistic', max_iter=500) = 0.508\n",
    "scaled_ann_LS = scaled_ann_LS.fit(scaled_X_train, balanced_LS_train_y_LS) = 0.471\n",
    "scaled_ann_LS = MLPClassifier(solver='adam', alpha=0.0001, learning_rate_init=0.001, learning_rate='constant',\n",
    "                              hidden_layer_sizes=(200,200), random_state=42, activation='logistic', max_iter=500)=0.480\n",
    "scaled_ann_LS = MLPClassifier(solver='adam', alpha=0.0001, learning_rate_init=0.001, learning_rate='constant',\n",
    "                              hidden_layer_sizes=(200,200), random_state=42, activation='tanh', max_iter=500)=0.485\n",
    "scaled_ann_LS = scaled_ann_LS.fit(scaled_X_train, upsampled_LS_train_y_LS) = 0.473\n",
    "scaled_ann_LS = MLPClassifier(solver='sgd', alpha=0.0001, learning_rate_init=0.001, learning_rate='adaptive',\n",
    "                              hidden_layer_sizes=(200,200), random_state=42, activation='logistic', max_iter=500) = 0.510\n",
    "scaled_ann_LS = MLPClassifier(solver='sgd', alpha=0.0001, learning_rate_init=0.0001, learning_rate='constant',\n",
    "                              hidden_layer_sizes=(200,200), random_state=42, activation='logistic', max_iter=1000) = 0.498\n",
    "scaled_ann_LS = MLPClassifier(solver='sgd', alpha=0.0001, learning_rate_init=0.001, learning_rate='constant',\n",
    "                              hidden_layer_sizes=(100,10), random_state=42, activation='logistic', max_iter=5000) = 0.512"
   ]
  },
  {
   "cell_type": "code",
   "execution_count": 53,
   "metadata": {
    "collapsed": false
   },
   "outputs": [
    {
     "name": "stdout",
     "output_type": "stream",
     "text": [
      "('LifeStage Training: ', 0.99910411467332183)\n",
      "[[ 3717     0     6     0     0     0]\n",
      " [    0  1253     2     0     0     0]\n",
      " [    0     0 15496     0     0     0]\n",
      " [    0     0     3  2500     0     0]\n",
      " [    0     0    12     0  4457     0]\n",
      " [    0     0     5     0     0  3803]]\n",
      "('LifeStage Testing: ', 0.51131019036954084)\n",
      "[[  60    0 1455   53    3   65]\n",
      " [   1    0  366    2    0  132]\n",
      " [  58    1 6182   67    9  313]\n",
      " [  71    0  887  130    0    9]\n",
      " [  28    0 1709   10    7  152]\n",
      " [   8    0 1136    9    2  470]]\n",
      "RandomForestClassifier(bootstrap=True, class_weight=None, criterion='entropy',\n",
      "            max_depth=None, max_features=15, max_leaf_nodes=None,\n",
      "            min_impurity_split=1e-07, min_samples_leaf=1,\n",
      "            min_samples_split=2, min_weight_fraction_leaf=0.0,\n",
      "            n_estimators=5000, n_jobs=1, oob_score=False, random_state=42,\n",
      "            verbose=0, warm_start=False)\n",
      "{'max_features': 15, 'n_estimators': 5000, 'random_state': 42, 'criterion': 'entropy'}\n"
     ]
    }
   ],
   "source": [
    "from sklearn.model_selection import GridSearchCV\n",
    "from sklearn.ensemble import RandomForestClassifier\n",
    "\n",
    "params = {'n_estimators': [1000,3000,5000], 'max_features': [5,10,15], 'random_state':[42], 'criterion':[\"entropy\"]}\n",
    "\n",
    "rfc_LS=RandomForestClassifier()\n",
    "\n",
    "grid_rfc_LS = GridSearchCV(estimator=rfc_LS, param_grid=params, n_jobs=2,cv=10)\n",
    "\n",
    "# Fit the grid search object to the data to compute the optimal model\n",
    "grid_rfc_LS = grid_rfc_LS.fit(train_X, train_y_LS)\n",
    "\n",
    "tryClassifier_LS (\"Random Forest, Grid\", grid_rfc_LS, train_X, test_X, train_y_LS, test_y_LS)\n",
    "\n",
    "print(grid_rfc_LS.best_estimator_)\n",
    "print(grid_rfc_LS.best_params_)"
   ]
  },
  {
   "cell_type": "code",
   "execution_count": null,
   "metadata": {
    "collapsed": true
   },
   "outputs": [],
   "source": [
    "sample output:\n",
    "    ('LifeStage Training: ', 0.99910411467332183)\n",
    "[[ 3717     0     6     0     0     0]\n",
    " [    0  1253     2     0     0     0]\n",
    " [    0     0 15496     0     0     0]\n",
    " [    0     0     3  2500     0     0]\n",
    " [    0     0    12     0  4457     0]\n",
    " [    0     0     5     0     0  3803]]\n",
    "('LifeStage Testing: ', 0.51131019036954084)\n",
    "[[  60    0 1455   53    3   65]\n",
    " [   1    0  366    2    0  132]\n",
    " [  58    1 6182   67    9  313]\n",
    " [  71    0  887  130    0    9]\n",
    " [  28    0 1709   10    7  152]\n",
    " [   8    0 1136    9    2  470]]\n",
    "RandomForestClassifier(bootstrap=True, class_weight=None, criterion='entropy',\n",
    "            max_depth=None, max_features=15, max_leaf_nodes=None,\n",
    "            min_impurity_split=1e-07, min_samples_leaf=1,\n",
    "            min_samples_split=2, min_weight_fraction_leaf=0.0,\n",
    "            n_estimators=5000, n_jobs=1, oob_score=False, random_state=42,\n",
    "            verbose=0, warm_start=False)\n",
    "{'max_features': 15, 'n_estimators': 5000, 'random_state': 42, 'criterion': 'entropy'}"
   ]
  },
  {
   "cell_type": "code",
   "execution_count": null,
   "metadata": {
    "collapsed": false
   },
   "outputs": [],
   "source": [
    "#random useful code snippets\n",
    "list(data.columns.values)\n",
    "data['SPEND'].dtype\n",
    "data_cross.head(10)"
   ]
  }
 ],
 "metadata": {
  "anaconda-cloud": {},
  "kernelspec": {
   "display_name": "Python [conda env:python2]",
   "language": "python",
   "name": "conda-env-python2-py"
  },
  "language_info": {
   "codemirror_mode": {
    "name": "ipython",
    "version": 2
   },
   "file_extension": ".py",
   "mimetype": "text/x-python",
   "name": "python",
   "nbconvert_exporter": "python",
   "pygments_lexer": "ipython2",
   "version": "2.7.13"
  }
 },
 "nbformat": 4,
 "nbformat_minor": 0
}
