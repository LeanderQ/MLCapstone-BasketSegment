{
 "cells": [
  {
   "cell_type": "code",
   "execution_count": 1,
   "metadata": {
    "collapsed": true
   },
   "outputs": [],
   "source": [
    "##########################################\n",
    "# This notebook is used for intial data exploration for the capstone project\n",
    "##########################################\n"
   ]
  },
  {
   "cell_type": "markdown",
   "metadata": {},
   "source": [
    "First, we import the data"
   ]
  },
  {
   "cell_type": "code",
   "execution_count": 23,
   "metadata": {
    "collapsed": false
   },
   "outputs": [
    {
     "name": "stdout",
     "output_type": "stream",
     "text": [
      "('Before DropNA', 270664)\n",
      "('After DropNA', 191470)\n"
     ]
    }
   ],
   "source": [
    "import pandas as pd\n",
    "import numpy as np\n",
    "import glob\n",
    "from IPython.display import display # Allows the use of display() for DataFrames\n",
    "\n",
    "\n",
    "data = pd.read_csv('data/transactions_200816.csv')  #import one file\n",
    "\n",
    "#import all csvs (courtesy of http://stackoverflow.com/questions/20906474/import-multiple-csv-files-into-pandas-and-concatenate-into-one-dataframe)\n",
    "\n",
    "path =r'data' # use your path\n",
    "allFiles = glob.glob(path + \"/tr*.csv\")\n",
    "\n",
    "#print allFiles\n",
    "#data = pd.DataFrame()\n",
    "#list_ = []\n",
    "#for file_ in allFiles:\n",
    "#    df = pd.read_csv(file_,index_col=None, header=0)\n",
    "#    list_.append(df)\n",
    "#data = pd.concat(list_)\n",
    "\n",
    "print('Before DropNA',len(data))\n",
    "data=data.dropna()\n",
    "print('After DropNA',len(data))\n",
    "#data['CUST_CODE'].head()\n",
    "\n",
    "#list(data.columns.values)"
   ]
  },
  {
   "cell_type": "markdown",
   "metadata": {},
   "source": [
    "Reformat the data into a wide dataset using Prod_code_10 as the lowest level of aggregation.  "
   ]
  },
  {
   "cell_type": "code",
   "execution_count": 24,
   "metadata": {
    "collapsed": false
   },
   "outputs": [
    {
     "data": {
      "text/html": [
       "<div>\n",
       "<table border=\"1\" class=\"dataframe\">\n",
       "  <thead>\n",
       "    <tr style=\"text-align: right;\">\n",
       "      <th>PROD_CODE_10</th>\n",
       "      <th>BASKET_ID</th>\n",
       "      <th>CL00001</th>\n",
       "      <th>CL00002</th>\n",
       "      <th>CL00003</th>\n",
       "      <th>CL00004</th>\n",
       "      <th>CL00005</th>\n",
       "      <th>CL00006</th>\n",
       "      <th>CL00007</th>\n",
       "      <th>CL00008</th>\n",
       "      <th>CL00009</th>\n",
       "      <th>...</th>\n",
       "      <th>CL00242</th>\n",
       "      <th>CL00243</th>\n",
       "      <th>CL00244</th>\n",
       "      <th>CL00245</th>\n",
       "      <th>CL00246</th>\n",
       "      <th>CL00247</th>\n",
       "      <th>CL00248</th>\n",
       "      <th>CL00249</th>\n",
       "      <th>CL00250</th>\n",
       "      <th>CUST_LIFESTAGE_PRICE_SENSITIVITY</th>\n",
       "    </tr>\n",
       "  </thead>\n",
       "  <tbody>\n",
       "    <tr>\n",
       "      <th>0</th>\n",
       "      <td>994111400168267</td>\n",
       "      <td>0.00</td>\n",
       "      <td>0.0</td>\n",
       "      <td>0.00</td>\n",
       "      <td>0.0</td>\n",
       "      <td>0.0</td>\n",
       "      <td>0.0</td>\n",
       "      <td>0.0</td>\n",
       "      <td>0.0</td>\n",
       "      <td>0.0</td>\n",
       "      <td>...</td>\n",
       "      <td>0.0</td>\n",
       "      <td>0.0</td>\n",
       "      <td>0.0</td>\n",
       "      <td>0.0</td>\n",
       "      <td>0.0</td>\n",
       "      <td>0.0</td>\n",
       "      <td>0.0</td>\n",
       "      <td>0.0</td>\n",
       "      <td>0.0</td>\n",
       "      <td>OT-UM</td>\n",
       "    </tr>\n",
       "    <tr>\n",
       "      <th>1</th>\n",
       "      <td>994111400168287</td>\n",
       "      <td>0.00</td>\n",
       "      <td>0.0</td>\n",
       "      <td>0.00</td>\n",
       "      <td>0.0</td>\n",
       "      <td>0.0</td>\n",
       "      <td>0.0</td>\n",
       "      <td>0.0</td>\n",
       "      <td>0.0</td>\n",
       "      <td>0.0</td>\n",
       "      <td>...</td>\n",
       "      <td>0.0</td>\n",
       "      <td>0.0</td>\n",
       "      <td>0.0</td>\n",
       "      <td>0.0</td>\n",
       "      <td>0.0</td>\n",
       "      <td>0.0</td>\n",
       "      <td>0.0</td>\n",
       "      <td>0.0</td>\n",
       "      <td>0.0</td>\n",
       "      <td>OT-LA</td>\n",
       "    </tr>\n",
       "    <tr>\n",
       "      <th>2</th>\n",
       "      <td>994111400168333</td>\n",
       "      <td>0.00</td>\n",
       "      <td>0.0</td>\n",
       "      <td>0.00</td>\n",
       "      <td>0.0</td>\n",
       "      <td>0.0</td>\n",
       "      <td>0.0</td>\n",
       "      <td>0.0</td>\n",
       "      <td>0.0</td>\n",
       "      <td>0.0</td>\n",
       "      <td>...</td>\n",
       "      <td>0.0</td>\n",
       "      <td>0.0</td>\n",
       "      <td>0.0</td>\n",
       "      <td>0.0</td>\n",
       "      <td>0.0</td>\n",
       "      <td>0.0</td>\n",
       "      <td>0.0</td>\n",
       "      <td>0.0</td>\n",
       "      <td>0.0</td>\n",
       "      <td>OA-UM</td>\n",
       "    </tr>\n",
       "    <tr>\n",
       "      <th>3</th>\n",
       "      <td>994111400168387</td>\n",
       "      <td>0.00</td>\n",
       "      <td>0.0</td>\n",
       "      <td>0.00</td>\n",
       "      <td>0.0</td>\n",
       "      <td>0.0</td>\n",
       "      <td>0.0</td>\n",
       "      <td>0.0</td>\n",
       "      <td>0.0</td>\n",
       "      <td>0.0</td>\n",
       "      <td>...</td>\n",
       "      <td>0.0</td>\n",
       "      <td>0.0</td>\n",
       "      <td>0.0</td>\n",
       "      <td>0.0</td>\n",
       "      <td>0.0</td>\n",
       "      <td>0.0</td>\n",
       "      <td>0.0</td>\n",
       "      <td>0.0</td>\n",
       "      <td>0.0</td>\n",
       "      <td>OA-MM</td>\n",
       "    </tr>\n",
       "    <tr>\n",
       "      <th>4</th>\n",
       "      <td>994111400168388</td>\n",
       "      <td>0.00</td>\n",
       "      <td>0.0</td>\n",
       "      <td>0.42</td>\n",
       "      <td>0.0</td>\n",
       "      <td>0.0</td>\n",
       "      <td>0.0</td>\n",
       "      <td>0.0</td>\n",
       "      <td>0.0</td>\n",
       "      <td>0.0</td>\n",
       "      <td>...</td>\n",
       "      <td>0.0</td>\n",
       "      <td>0.0</td>\n",
       "      <td>0.0</td>\n",
       "      <td>0.0</td>\n",
       "      <td>0.0</td>\n",
       "      <td>0.0</td>\n",
       "      <td>0.0</td>\n",
       "      <td>0.0</td>\n",
       "      <td>0.0</td>\n",
       "      <td>OA-MM</td>\n",
       "    </tr>\n",
       "    <tr>\n",
       "      <th>5</th>\n",
       "      <td>994111400168389</td>\n",
       "      <td>3.09</td>\n",
       "      <td>0.0</td>\n",
       "      <td>0.00</td>\n",
       "      <td>0.0</td>\n",
       "      <td>0.0</td>\n",
       "      <td>0.0</td>\n",
       "      <td>0.0</td>\n",
       "      <td>0.0</td>\n",
       "      <td>0.0</td>\n",
       "      <td>...</td>\n",
       "      <td>0.0</td>\n",
       "      <td>0.0</td>\n",
       "      <td>0.0</td>\n",
       "      <td>0.0</td>\n",
       "      <td>0.0</td>\n",
       "      <td>0.0</td>\n",
       "      <td>0.0</td>\n",
       "      <td>0.0</td>\n",
       "      <td>0.0</td>\n",
       "      <td>OA-MM</td>\n",
       "    </tr>\n",
       "    <tr>\n",
       "      <th>6</th>\n",
       "      <td>994111400168470</td>\n",
       "      <td>0.00</td>\n",
       "      <td>0.0</td>\n",
       "      <td>2.13</td>\n",
       "      <td>0.0</td>\n",
       "      <td>0.0</td>\n",
       "      <td>0.0</td>\n",
       "      <td>0.0</td>\n",
       "      <td>0.0</td>\n",
       "      <td>0.0</td>\n",
       "      <td>...</td>\n",
       "      <td>0.0</td>\n",
       "      <td>0.0</td>\n",
       "      <td>0.0</td>\n",
       "      <td>0.0</td>\n",
       "      <td>0.0</td>\n",
       "      <td>0.0</td>\n",
       "      <td>0.0</td>\n",
       "      <td>0.0</td>\n",
       "      <td>0.0</td>\n",
       "      <td>OA-LA</td>\n",
       "    </tr>\n",
       "    <tr>\n",
       "      <th>7</th>\n",
       "      <td>994111400168495</td>\n",
       "      <td>0.00</td>\n",
       "      <td>0.0</td>\n",
       "      <td>0.65</td>\n",
       "      <td>0.0</td>\n",
       "      <td>0.0</td>\n",
       "      <td>0.0</td>\n",
       "      <td>0.0</td>\n",
       "      <td>0.0</td>\n",
       "      <td>0.0</td>\n",
       "      <td>...</td>\n",
       "      <td>0.0</td>\n",
       "      <td>0.0</td>\n",
       "      <td>0.0</td>\n",
       "      <td>0.0</td>\n",
       "      <td>0.0</td>\n",
       "      <td>0.0</td>\n",
       "      <td>0.0</td>\n",
       "      <td>0.0</td>\n",
       "      <td>0.0</td>\n",
       "      <td>OA-UM</td>\n",
       "    </tr>\n",
       "    <tr>\n",
       "      <th>8</th>\n",
       "      <td>994111400168506</td>\n",
       "      <td>0.00</td>\n",
       "      <td>0.0</td>\n",
       "      <td>0.00</td>\n",
       "      <td>0.0</td>\n",
       "      <td>0.0</td>\n",
       "      <td>0.0</td>\n",
       "      <td>0.0</td>\n",
       "      <td>0.0</td>\n",
       "      <td>0.0</td>\n",
       "      <td>...</td>\n",
       "      <td>0.0</td>\n",
       "      <td>0.0</td>\n",
       "      <td>0.0</td>\n",
       "      <td>0.0</td>\n",
       "      <td>0.0</td>\n",
       "      <td>0.0</td>\n",
       "      <td>0.0</td>\n",
       "      <td>0.0</td>\n",
       "      <td>0.0</td>\n",
       "      <td>OT-XX</td>\n",
       "    </tr>\n",
       "    <tr>\n",
       "      <th>9</th>\n",
       "      <td>994111400168589</td>\n",
       "      <td>0.00</td>\n",
       "      <td>0.0</td>\n",
       "      <td>0.00</td>\n",
       "      <td>0.0</td>\n",
       "      <td>0.0</td>\n",
       "      <td>0.0</td>\n",
       "      <td>0.0</td>\n",
       "      <td>0.0</td>\n",
       "      <td>0.0</td>\n",
       "      <td>...</td>\n",
       "      <td>0.0</td>\n",
       "      <td>0.0</td>\n",
       "      <td>0.0</td>\n",
       "      <td>0.0</td>\n",
       "      <td>0.0</td>\n",
       "      <td>0.0</td>\n",
       "      <td>0.0</td>\n",
       "      <td>0.0</td>\n",
       "      <td>0.0</td>\n",
       "      <td>OA-UM</td>\n",
       "    </tr>\n",
       "  </tbody>\n",
       "</table>\n",
       "<p>10 rows × 252 columns</p>\n",
       "</div>"
      ],
      "text/plain": [
       "PROD_CODE_10        BASKET_ID  CL00001  CL00002  CL00003  CL00004  CL00005  \\\n",
       "0             994111400168267     0.00      0.0     0.00      0.0      0.0   \n",
       "1             994111400168287     0.00      0.0     0.00      0.0      0.0   \n",
       "2             994111400168333     0.00      0.0     0.00      0.0      0.0   \n",
       "3             994111400168387     0.00      0.0     0.00      0.0      0.0   \n",
       "4             994111400168388     0.00      0.0     0.42      0.0      0.0   \n",
       "5             994111400168389     3.09      0.0     0.00      0.0      0.0   \n",
       "6             994111400168470     0.00      0.0     2.13      0.0      0.0   \n",
       "7             994111400168495     0.00      0.0     0.65      0.0      0.0   \n",
       "8             994111400168506     0.00      0.0     0.00      0.0      0.0   \n",
       "9             994111400168589     0.00      0.0     0.00      0.0      0.0   \n",
       "\n",
       "PROD_CODE_10  CL00006  CL00007  CL00008  CL00009  \\\n",
       "0                 0.0      0.0      0.0      0.0   \n",
       "1                 0.0      0.0      0.0      0.0   \n",
       "2                 0.0      0.0      0.0      0.0   \n",
       "3                 0.0      0.0      0.0      0.0   \n",
       "4                 0.0      0.0      0.0      0.0   \n",
       "5                 0.0      0.0      0.0      0.0   \n",
       "6                 0.0      0.0      0.0      0.0   \n",
       "7                 0.0      0.0      0.0      0.0   \n",
       "8                 0.0      0.0      0.0      0.0   \n",
       "9                 0.0      0.0      0.0      0.0   \n",
       "\n",
       "PROD_CODE_10                ...                 CL00242  CL00243  CL00244  \\\n",
       "0                           ...                     0.0      0.0      0.0   \n",
       "1                           ...                     0.0      0.0      0.0   \n",
       "2                           ...                     0.0      0.0      0.0   \n",
       "3                           ...                     0.0      0.0      0.0   \n",
       "4                           ...                     0.0      0.0      0.0   \n",
       "5                           ...                     0.0      0.0      0.0   \n",
       "6                           ...                     0.0      0.0      0.0   \n",
       "7                           ...                     0.0      0.0      0.0   \n",
       "8                           ...                     0.0      0.0      0.0   \n",
       "9                           ...                     0.0      0.0      0.0   \n",
       "\n",
       "PROD_CODE_10  CL00245  CL00246  CL00247  CL00248  CL00249  CL00250  \\\n",
       "0                 0.0      0.0      0.0      0.0      0.0      0.0   \n",
       "1                 0.0      0.0      0.0      0.0      0.0      0.0   \n",
       "2                 0.0      0.0      0.0      0.0      0.0      0.0   \n",
       "3                 0.0      0.0      0.0      0.0      0.0      0.0   \n",
       "4                 0.0      0.0      0.0      0.0      0.0      0.0   \n",
       "5                 0.0      0.0      0.0      0.0      0.0      0.0   \n",
       "6                 0.0      0.0      0.0      0.0      0.0      0.0   \n",
       "7                 0.0      0.0      0.0      0.0      0.0      0.0   \n",
       "8                 0.0      0.0      0.0      0.0      0.0      0.0   \n",
       "9                 0.0      0.0      0.0      0.0      0.0      0.0   \n",
       "\n",
       "PROD_CODE_10  CUST_LIFESTAGE_PRICE_SENSITIVITY  \n",
       "0                                        OT-UM  \n",
       "1                                        OT-LA  \n",
       "2                                        OA-UM  \n",
       "3                                        OA-MM  \n",
       "4                                        OA-MM  \n",
       "5                                        OA-MM  \n",
       "6                                        OA-LA  \n",
       "7                                        OA-UM  \n",
       "8                                        OT-XX  \n",
       "9                                        OA-UM  \n",
       "\n",
       "[10 rows x 252 columns]"
      ]
     },
     "execution_count": 24,
     "metadata": {},
     "output_type": "execute_result"
    }
   ],
   "source": [
    "#create my target variable\n",
    "data[\"CUST_LIFESTAGE_PRICE_SENSITIVITY\"] = data[\"CUST_LIFESTAGE\"] + \"-\" + data[\"CUST_PRICE_SENSITIVITY\"]\n",
    "\n",
    "#create basketprofiles.  Simplest version will be to sum spend in each category in PROD_CODE_20, keeping the target variable as well\n",
    "#pivot code from http://stackoverflow.com/questions/41046766/using-and-graphing-the-results-of-a-crosstab-dataframe-in-python\n",
    "\n",
    "data_cross=data.pivot_table(index='BASKET_ID', columns='PROD_CODE_10', values='SPEND', aggfunc=np.sum, fill_value=0)\n",
    "data_cross.reset_index(level=['BASKET_ID'], inplace=True)\n",
    "\n",
    "#create target for the classifier\n",
    "bybasket=data.groupby(['BASKET_ID'])\n",
    "targetByBasket=pd.DataFrame(bybasket['CUST_LIFESTAGE_PRICE_SENSITIVITY'].first())\n",
    "targetByBasket.reset_index(level=['BASKET_ID'], inplace=True)\n",
    "\n",
    "data_cross = pd.merge(data_cross, targetByBasket, how='inner', on = 'BASKET_ID')\n",
    "\n",
    "data_cross.head(10)\n",
    "#list(data_cross.columns.values)"
   ]
  },
  {
   "cell_type": "markdown",
   "metadata": {},
   "source": [
    "# Naive Classifier Work"
   ]
  },
  {
   "cell_type": "code",
   "execution_count": null,
   "metadata": {
    "collapsed": true
   },
   "outputs": [],
   "source": [
    "#do all the work for the naive classifier\n",
    "\n",
    "#create variables for the naive classifier\n",
    "spendByBasket=pd.DataFrame(bybasket['SPEND'].sum())\n",
    "spendByBasket.reset_index(level=['BASKET_ID'], inplace=True)\n",
    "\n",
    "basketTypeByBasket=pd.DataFrame(bybasket['BASKET_TYPE'].first())\n",
    "basketTypeByBasket.reset_index(level=['BASKET_ID'], inplace=True)\n",
    "\n",
    "basketSizeByBasket=pd.DataFrame(bybasket['BASKET_SIZE'].first())\n",
    "basketSizeByBasket.reset_index(level=['BASKET_ID'], inplace=True)\n",
    "\n",
    "weekdayByBasket=pd.DataFrame(bybasket['SHOP_WEEKDAY'].first())\n",
    "weekdayByBasket.reset_index(level=['BASKET_ID'], inplace=True)\n",
    "\n",
    "#merge them back in\n",
    "data_cross_naive = pd.merge(data_cross, spendByBasket, how='inner', on = 'BASKET_ID')\n",
    "data_cross_naive = pd.merge(data_cross_naive, basketTypeByBasket, how='inner', on = 'BASKET_ID')\n",
    "data_cross_naive = pd.merge(data_cross_naive, basketSizeByBasket, how='inner', on = 'BASKET_ID')\n",
    "data_cross_naive = pd.merge(data_cross_naive, weekdayByBasket, how='inner', on = 'BASKET_ID')"
   ]
  },
  {
   "cell_type": "code",
   "execution_count": 15,
   "metadata": {
    "collapsed": false,
    "scrolled": true
   },
   "outputs": [],
   "source": [
    "#create the naive predictor\n",
    "\n",
    "avgTrainSpend=X_train['SPEND'].mean()\n",
    "stDevTrainSpend=X_train['SPEND'].std()\n",
    "\n",
    "\n",
    "def NaiveClassifier(test, trainMean, trainStd):\n",
    "\n",
    "    if(test['SPEND']<trainMean-trainStd):\n",
    "            if(test['BASKET_TYPE']='Full Shop')\n",
    "                   naivePriceSens = 'LA'\n",
    "            else:\n",
    "                    naivePriceSens = 'MM'\n",
    "    elif(test['SPEND']>rainMean-trainStd):\n",
    "        if(test['BASKET_TYPE']='Full Shop')\n",
    "                   naivePriceSens = 'MM\n",
    "            else:\n",
    "                    naivePriceSens = 'UM'\n",
    "    else:\n",
    "        naivePriceSens = 'MM'\n",
    "    \n",
    "    if (test[\"SHOP_WEEKDAY\"] = 7) or (test[\"SHOP_WEEKDAY\"] = 1):\n",
    "        if(test['BASKET_SIZE'] = 'Small'):\n",
    "            if(test['BASKET_TYPE']='Small Shop')\n",
    "                   naivePriceSens = 'YA'\n",
    "            else:\n",
    "                    naivePriceSens = 'OA'\n",
    "        elif(test['BASKET_SIZE'] = 'Medium'):\n",
    "            naiveLifeStage = 'YF'\n",
    "        else:\n",
    "            naiveLifeStage = 'OF'            \n",
    "    else:\n",
    "        naiveLifeStage = 'PE'\n",
    "    \n",
    "    \n",
    "    \n",
    "    return naivePriceSens + \"-\" naiveLifeStage\n",
    "\n",
    "#apply to every row\n",
    "#X_test.apply(NaiveClassifier, args=(avgTrainSpend,stDevTrainSpend)) # returns DataFrame\n"
   ]
  },
  {
   "cell_type": "code",
   "execution_count": null,
   "metadata": {
    "collapsed": true
   },
   "outputs": [],
   "source": [
    "#pop the two classifiers used for the naive predictor before doing any classification\n",
    "X_train.pop(\"SPEND\")\n",
    "X_train.pop(\"SHOP_WEEKDAY\")\n",
    "X_test.pop(\"SPEND\")\n",
    "X_test.pop(\"SHOP_WEEKDAY\")"
   ]
  },
  {
   "cell_type": "markdown",
   "metadata": {},
   "source": [
    "# Split the data"
   ]
  },
  {
   "cell_type": "code",
   "execution_count": 25,
   "metadata": {
    "collapsed": false
   },
   "outputs": [],
   "source": [
    "#reset the index to what it should be for the rest\n",
    "data_cross.set_index(['BASKET_ID'], inplace=True)\n",
    "#create the training, testing split\n",
    "from sklearn.cross_validation import train_test_split\n",
    "#split off the target variable\n",
    "y = data_cross.pop(\"CUST_LIFESTAGE_PRICE_SENSITIVITY\")\n",
    "X = data_cross\n",
    "\n",
    "#split the data into training and testing, from http://scikit-learn.org/stable/modules/generated/sklearn.model_selection.train_test_split.html\n",
    "X_train, X_test, y_train, y_test = train_test_split(X, y, test_size=0.1, random_state=42) "
   ]
  },
  {
   "cell_type": "markdown",
   "metadata": {},
   "source": [
    "# Dimensionality Reduction"
   ]
  },
  {
   "cell_type": "code",
   "execution_count": 30,
   "metadata": {
    "collapsed": false
   },
   "outputs": [
    {
     "name": "stdout",
     "output_type": "stream",
     "text": [
      "PROD_CODE_10     CL00001  CL00002  CL00003  CL00004  CL00005  CL00006  \\\n",
      "BASKET_ID                                                               \n",
      "994111400403246      0.0      0.0      0.0      0.0      0.0      0.0   \n",
      "994111400493436      0.0      0.0      0.0      0.0      0.0      0.0   \n",
      "994111400517014      0.0      0.0      0.0      0.0      0.0      0.0   \n",
      "994111400609586      0.0      0.0      0.0      0.0      0.0      0.0   \n",
      "994111400683991      0.0      0.0      0.0      0.0      0.0      0.0   \n",
      "994111400316123      0.0      0.0      0.0      0.0      0.0      0.0   \n",
      "994111400719413      0.0      0.0      0.0      0.0      0.0      0.0   \n",
      "994111400809061      0.0      0.0      0.0      0.0      0.0      0.0   \n",
      "994111400386079      0.0      0.0      0.0      0.0      0.0      0.0   \n",
      "994111400490319      0.0      0.0      0.0      0.0      0.0      0.0   \n",
      "\n",
      "PROD_CODE_10     CL00007  CL00008  CL00009  CL00010   ...     CL00241  \\\n",
      "BASKET_ID                                             ...               \n",
      "994111400403246      0.0      0.0      0.0      0.0   ...         0.0   \n",
      "994111400493436      0.0      0.0      0.0      0.0   ...         0.0   \n",
      "994111400517014      0.0      0.0      0.0      0.0   ...         0.0   \n",
      "994111400609586      0.0      0.0      0.0      0.0   ...         0.0   \n",
      "994111400683991      0.0      0.0      0.0      0.0   ...         0.0   \n",
      "994111400316123      0.0      0.0      0.0      0.0   ...         0.0   \n",
      "994111400719413      0.0      0.0      0.0      0.0   ...         0.0   \n",
      "994111400809061      0.0      0.0      0.0      0.0   ...         0.0   \n",
      "994111400386079      0.0      0.0      0.0      0.0   ...         0.0   \n",
      "994111400490319      0.0      0.0      0.0      0.0   ...         0.0   \n",
      "\n",
      "PROD_CODE_10     CL00242  CL00243  CL00244  CL00245  CL00246  CL00247  \\\n",
      "BASKET_ID                                                               \n",
      "994111400403246      0.0      0.0      0.0      0.0      0.0      0.0   \n",
      "994111400493436      0.0      0.0      0.0      0.0      0.0      0.0   \n",
      "994111400517014      0.0      0.0      0.0      0.0      0.0      0.0   \n",
      "994111400609586      0.0      0.0      0.0      0.0      0.0      0.0   \n",
      "994111400683991      0.0      0.0      0.0      0.0      0.0      0.0   \n",
      "994111400316123      0.0      0.0      0.0      0.0      0.0      0.0   \n",
      "994111400719413      0.0      0.0      0.0      0.0      0.0      0.0   \n",
      "994111400809061      0.0      0.0      0.0      0.0      0.0      0.0   \n",
      "994111400386079      0.0      0.0      0.0      0.0      0.0      0.0   \n",
      "994111400490319      0.0      0.0      0.0      0.0      0.0      0.0   \n",
      "\n",
      "PROD_CODE_10     CL00248  CL00249  CL00250  \n",
      "BASKET_ID                                   \n",
      "994111400403246      0.0      0.0      0.0  \n",
      "994111400493436      0.0      0.0      0.0  \n",
      "994111400517014      0.0      0.0      0.0  \n",
      "994111400609586      1.0      0.0      0.0  \n",
      "994111400683991      0.0      0.0      0.0  \n",
      "994111400316123      0.0      0.0      0.0  \n",
      "994111400719413      0.0      0.0      0.0  \n",
      "994111400809061      0.0      0.0      0.0  \n",
      "994111400386079      0.0      0.0      0.0  \n",
      "994111400490319      0.0      0.0      0.0  \n",
      "\n",
      "[10 rows x 250 columns]\n"
     ]
    },
    {
     "data": {
      "text/plain": [
       "array([ 0.98573378,  0.98674812,  0.98768586,  0.9886164 ,  0.98952825,\n",
       "        0.99014954])"
      ]
     },
     "metadata": {},
     "output_type": "display_data"
    },
    {
     "name": "stdout",
     "output_type": "stream",
     "text": [
      "[[ 0.55335525 -0.40599462  0.14857127 -0.12220555 -0.00556478 -0.93562021]\n",
      " [ 0.55340434 -0.35498298  0.17349743 -0.12618547 -0.01726352 -0.86178019]\n",
      " [ 0.55344136 -0.35067026  0.13536254 -0.09565673 -0.01143364 -0.3869574 ]\n",
      " ..., \n",
      " [ 0.553366   -0.3859647   0.14477498 -0.11658124 -0.00377536 -0.80335004]\n",
      " [ 0.55343872 -0.3681533   0.14427545 -0.10887298 -0.00578458 -0.47928714]\n",
      " [ 0.55335505 -0.39681538  0.15240747 -0.122468   -0.00671079 -0.93248055]]\n"
     ]
    }
   ],
   "source": [
    "print(X_train.head(10))\n",
    "from sklearn.decomposition import PCA\n",
    "\n",
    "pca = PCA(n_components = 6)\n",
    "pca.fit(X_train)\n",
    "\n",
    "# TODO: Transform the sample log-data using the PCA fit above\n",
    "X_train_pca= pca.transform(X_train)\n",
    "X_test_pca= pca.transform(X_test)\n",
    "\n",
    "#check cumulative sums\n",
    "display(np.cumsum(pca.explained_variance_ratio_))\n",
    "\n",
    "\n",
    "print(X_train_pca)"
   ]
  },
  {
   "cell_type": "markdown",
   "metadata": {},
   "source": [
    "# try the classifiers"
   ]
  },
  {
   "cell_type": "code",
   "execution_count": 41,
   "metadata": {
    "collapsed": false
   },
   "outputs": [
    {
     "name": "stdout",
     "output_type": "stream",
     "text": [
      "('non-pca: ', 0.12375043088590142)\n",
      "('pca: ', 0.099620820406756294)\n"
     ]
    }
   ],
   "source": [
    "from sklearn.ensemble import RandomForestClassifier\n",
    "rfc = RandomForestClassifier(n_estimators = 100)\n",
    "\n",
    "rfc = rfc.fit(X_train, y_train)\n",
    "#rfc_pred = rfc.predict(X_test)\n",
    "print('non-pca: ', rfc.score(X_test,y_test))\n",
    "\n",
    "rfc2 = rfc.fit(X_train_pca, y_train)\n",
    "#rfc_pred = rfc.predict(X_test)\n",
    "print(\"pca: \", rfc.score(X_test_pca,y_test))"
   ]
  },
  {
   "cell_type": "code",
   "execution_count": null,
   "metadata": {
    "collapsed": false
   },
   "outputs": [],
   "source": [
    "#requires sklearn 0.18\n",
    "#conda update sklearn\n",
    "\n",
    "from sklearn.neural_network import MLPClassifier\n",
    "ann = MLPClassifier(solver='lbfgs', alpha=1e-5, hidden_layer_sizes=(5, 2), random_state=1)\n",
    "ann = ann.fit(X_train, y_train)\n",
    "ann.score(X_test,y_test)"
   ]
  },
  {
   "cell_type": "code",
   "execution_count": 9,
   "metadata": {
    "collapsed": false
   },
   "outputs": [
    {
     "data": {
      "text/plain": [
       "0.67114788004136505"
      ]
     },
     "execution_count": 9,
     "metadata": {},
     "output_type": "execute_result"
    }
   ],
   "source": [
    "from sklearn.neighbors import KNeighborsClassifier\n",
    "\n",
    "nn = KNeighborsClassifier(n_neighbors=1)\n",
    "nn = nn.fit(X_train,y_train)\n",
    "#nn_pred = nn.pred(X_test)\n",
    "nn.score(X_test,y_test)"
   ]
  },
  {
   "cell_type": "code",
   "execution_count": null,
   "metadata": {
    "collapsed": false
   },
   "outputs": [],
   "source": [
    "from sklearn import tree\n",
    "dt = tree.DecisionTreeClassifier()\n",
    "dt = dt.fit(X_train, y_train)\n",
    "dt.score(X_test,y_test)"
   ]
  },
  {
   "cell_type": "code",
   "execution_count": null,
   "metadata": {
    "collapsed": false
   },
   "outputs": [],
   "source": [
    "from sklearn.ensemble import AdaBoostClassifier\n",
    "ada = AdaBoostClassifier(n_estimators=100)\n",
    "ada = ada.fit(X_train, y_train)\n",
    "ada.score(X_test,y_test)"
   ]
  },
  {
   "cell_type": "code",
   "execution_count": null,
   "metadata": {
    "collapsed": false
   },
   "outputs": [],
   "source": [
    "import sklearn\n",
    "print('The scikit-learn version is {}.'.format(sklearn.__version__))"
   ]
  },
  {
   "cell_type": "code",
   "execution_count": null,
   "metadata": {
    "collapsed": false
   },
   "outputs": [],
   "source": [
    "#random useful code snippets\n",
    "list(data.columns.values)\n",
    "data['SPEND'].dtype\n",
    "data_cross.head(10)"
   ]
  }
 ],
 "metadata": {
  "anaconda-cloud": {},
  "kernelspec": {
   "display_name": "Python [conda env:python2]",
   "language": "python",
   "name": "conda-env-python2-py"
  },
  "language_info": {
   "codemirror_mode": {
    "name": "ipython",
    "version": 2
   },
   "file_extension": ".py",
   "mimetype": "text/x-python",
   "name": "python",
   "nbconvert_exporter": "python",
   "pygments_lexer": "ipython2",
   "version": "2.7.13"
  }
 },
 "nbformat": 4,
 "nbformat_minor": 0
}
