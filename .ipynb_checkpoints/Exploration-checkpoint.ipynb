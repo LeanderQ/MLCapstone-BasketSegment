{
 "cells": [
  {
   "cell_type": "code",
   "execution_count": 12,
   "metadata": {
    "collapsed": false
   },
   "outputs": [
    {
     "data": {
      "text/html": [
       "<script>requirejs.config({paths: { 'plotly': ['https://cdn.plot.ly/plotly-latest.min']},});if(!window.Plotly) {{require(['plotly'],function(plotly) {window.Plotly=plotly;});}}</script>"
      ],
      "text/plain": [
       "<IPython.core.display.HTML object>"
      ]
     },
     "metadata": {},
     "output_type": "display_data"
    }
   ],
   "source": [
    "##########################################\n",
    "# This notebook is used for intiial data exploration for the capstone project\n",
    "##########################################\n",
    "\n",
    "#set up plotly for offline graphing\n",
    "from plotly.offline import download_plotlyjs, init_notebook_mode, plot, iplot\n",
    "init_notebook_mode(connected=True)\n",
    "\n"
   ]
  },
  {
   "cell_type": "markdown",
   "metadata": {},
   "source": [
    "First, we import the data"
   ]
  },
  {
   "cell_type": "code",
<<<<<<< HEAD
   "execution_count": 3,
=======
   "execution_count": 16,
>>>>>>> origin/master
   "metadata": {
    "collapsed": false
   },
   "outputs": [
    {
     "data": {
      "text/plain": [
       "['SHOP_WEEK',\n",
       " 'SHOP_DATE',\n",
       " 'SHOP_WEEKDAY',\n",
       " 'SHOP_HOUR',\n",
       " 'QUANTITY',\n",
       " 'SPEND',\n",
       " 'PROD_CODE',\n",
       " 'PROD_CODE_10',\n",
       " 'PROD_CODE_20',\n",
       " 'PROD_CODE_30',\n",
       " 'PROD_CODE_40',\n",
       " 'CUST_CODE',\n",
       " 'CUST_PRICE_SENSITIVITY',\n",
       " 'CUST_LIFESTAGE',\n",
       " 'BASKET_ID',\n",
       " 'BASKET_SIZE',\n",
       " 'BASKET_PRICE_SENSITIVITY',\n",
       " 'BASKET_TYPE',\n",
       " 'BASKET_DOMINANT_MISSION',\n",
       " 'STORE_CODE',\n",
       " 'STORE_FORMAT',\n",
       " 'STORE_REGION']"
      ]
     },
<<<<<<< HEAD
     "execution_count": 3,
=======
     "execution_count": 16,
>>>>>>> origin/master
     "metadata": {},
     "output_type": "execute_result"
    }
   ],
   "source": [
    "import pandas as pd\n",
    "import numpy as np\n",
    "import glob\n",
    "\n",
    "data = pd.read_csv('data/transactions_200816.csv')  #import one file\n",
    "\n",
    "#import all csvs (courtesy of http://stackoverflow.com/questions/20906474/import-multiple-csv-files-into-pandas-and-concatenate-into-one-dataframe)\n",
    "\n",
    "#path =r'data' # use your path\n",
    "#allFiles = glob.glob(path + \"/*.csv\")\n",
    "#data = pd.DataFrame()\n",
    "#list_ = []\n",
    "#for file_ in allFiles:\n",
    "#    df = pd.read_csv(file_,index_col=None, header=0)\n",
    "#    list_.append(df)\n",
    "#data = pd.concat(list_)\n",
    "\n",
    "\n",
    "data=data.dropna()\n",
    "data['CUST_CODE'].head()\n",
    "\n",
    "list(data.columns.values)"
   ]
  },
  {
   "cell_type": "markdown",
   "metadata": {},
   "source": [
    "Show some sample data"
   ]
  },
  {
   "cell_type": "code",
   "execution_count": 4,
   "metadata": {
    "collapsed": false
   },
   "outputs": [
    {
     "data": {
      "text/html": [
       "<div>\n",
       "<table border=\"1\" class=\"dataframe\">\n",
       "  <thead>\n",
       "    <tr style=\"text-align: right;\">\n",
       "      <th></th>\n",
       "      <th>SHOP_WEEK</th>\n",
       "      <th>SHOP_DATE</th>\n",
       "      <th>SHOP_WEEKDAY</th>\n",
       "      <th>SHOP_HOUR</th>\n",
       "      <th>QUANTITY</th>\n",
       "      <th>SPEND</th>\n",
       "      <th>PROD_CODE</th>\n",
       "      <th>PROD_CODE_10</th>\n",
       "      <th>PROD_CODE_20</th>\n",
       "      <th>PROD_CODE_30</th>\n",
       "      <th>...</th>\n",
       "      <th>CUST_PRICE_SENSITIVITY</th>\n",
       "      <th>CUST_LIFESTAGE</th>\n",
       "      <th>BASKET_ID</th>\n",
       "      <th>BASKET_SIZE</th>\n",
       "      <th>BASKET_PRICE_SENSITIVITY</th>\n",
       "      <th>BASKET_TYPE</th>\n",
       "      <th>BASKET_DOMINANT_MISSION</th>\n",
       "      <th>STORE_CODE</th>\n",
       "      <th>STORE_FORMAT</th>\n",
       "      <th>STORE_REGION</th>\n",
       "    </tr>\n",
       "  </thead>\n",
       "  <tbody>\n",
       "    <tr>\n",
       "      <th>0</th>\n",
       "      <td>200816</td>\n",
       "      <td>20080609</td>\n",
       "      <td>2</td>\n",
       "      <td>13</td>\n",
       "      <td>1</td>\n",
       "      <td>1.56</td>\n",
       "      <td>PRD0900049</td>\n",
       "      <td>CL00160</td>\n",
       "      <td>DEP00054</td>\n",
       "      <td>G00016</td>\n",
       "      <td>...</td>\n",
       "      <td>MM</td>\n",
       "      <td>YA</td>\n",
       "      <td>994111400529101</td>\n",
       "      <td>L</td>\n",
       "      <td>UM</td>\n",
       "      <td>Top Up</td>\n",
       "      <td>Fresh</td>\n",
       "      <td>STORE00001</td>\n",
       "      <td>LS</td>\n",
       "      <td>E02</td>\n",
       "    </tr>\n",
       "    <tr>\n",
       "      <th>1</th>\n",
       "      <td>200816</td>\n",
       "      <td>20080614</td>\n",
       "      <td>7</td>\n",
       "      <td>18</td>\n",
       "      <td>1</td>\n",
       "      <td>1.00</td>\n",
       "      <td>PRD0900066</td>\n",
       "      <td>CL00041</td>\n",
       "      <td>DEP00011</td>\n",
       "      <td>G00004</td>\n",
       "      <td>...</td>\n",
       "      <td>LA</td>\n",
       "      <td>OT</td>\n",
       "      <td>994111400731371</td>\n",
       "      <td>L</td>\n",
       "      <td>LA</td>\n",
       "      <td>Full Shop</td>\n",
       "      <td>Mixed</td>\n",
       "      <td>STORE00001</td>\n",
       "      <td>LS</td>\n",
       "      <td>E02</td>\n",
       "    </tr>\n",
       "    <tr>\n",
       "      <th>3</th>\n",
       "      <td>200816</td>\n",
       "      <td>20080613</td>\n",
       "      <td>6</td>\n",
       "      <td>12</td>\n",
       "      <td>1</td>\n",
       "      <td>0.95</td>\n",
       "      <td>PRD0900105</td>\n",
       "      <td>CL00152</td>\n",
       "      <td>DEP00052</td>\n",
       "      <td>G00015</td>\n",
       "      <td>...</td>\n",
       "      <td>UM</td>\n",
       "      <td>YA</td>\n",
       "      <td>994111400718428</td>\n",
       "      <td>L</td>\n",
       "      <td>MM</td>\n",
       "      <td>Full Shop</td>\n",
       "      <td>Mixed</td>\n",
       "      <td>STORE00001</td>\n",
       "      <td>LS</td>\n",
       "      <td>E02</td>\n",
       "    </tr>\n",
       "    <tr>\n",
       "      <th>4</th>\n",
       "      <td>200816</td>\n",
       "      <td>20080613</td>\n",
       "      <td>6</td>\n",
       "      <td>11</td>\n",
       "      <td>1</td>\n",
       "      <td>0.98</td>\n",
       "      <td>PRD0900121</td>\n",
       "      <td>CL00063</td>\n",
       "      <td>DEP00019</td>\n",
       "      <td>G00007</td>\n",
       "      <td>...</td>\n",
       "      <td>LA</td>\n",
       "      <td>YA</td>\n",
       "      <td>994111400415167</td>\n",
       "      <td>S</td>\n",
       "      <td>MM</td>\n",
       "      <td>Small Shop</td>\n",
       "      <td>Nonfood</td>\n",
       "      <td>STORE00001</td>\n",
       "      <td>LS</td>\n",
       "      <td>E02</td>\n",
       "    </tr>\n",
       "    <tr>\n",
       "      <th>6</th>\n",
       "      <td>200816</td>\n",
       "      <td>20080609</td>\n",
       "      <td>2</td>\n",
       "      <td>8</td>\n",
       "      <td>1</td>\n",
       "      <td>0.98</td>\n",
       "      <td>PRD0900121</td>\n",
       "      <td>CL00063</td>\n",
       "      <td>DEP00019</td>\n",
       "      <td>G00007</td>\n",
       "      <td>...</td>\n",
       "      <td>LA</td>\n",
       "      <td>PE</td>\n",
       "      <td>994111400786718</td>\n",
       "      <td>L</td>\n",
       "      <td>MM</td>\n",
       "      <td>Top Up</td>\n",
       "      <td>Mixed</td>\n",
       "      <td>STORE00001</td>\n",
       "      <td>LS</td>\n",
       "      <td>E02</td>\n",
       "    </tr>\n",
       "    <tr>\n",
       "      <th>7</th>\n",
       "      <td>200816</td>\n",
       "      <td>20080611</td>\n",
       "      <td>4</td>\n",
       "      <td>16</td>\n",
       "      <td>1</td>\n",
       "      <td>0.98</td>\n",
       "      <td>PRD0900121</td>\n",
       "      <td>CL00063</td>\n",
       "      <td>DEP00019</td>\n",
       "      <td>G00007</td>\n",
       "      <td>...</td>\n",
       "      <td>UM</td>\n",
       "      <td>OT</td>\n",
       "      <td>994111400218762</td>\n",
       "      <td>L</td>\n",
       "      <td>MM</td>\n",
       "      <td>Top Up</td>\n",
       "      <td>Fresh</td>\n",
       "      <td>STORE00001</td>\n",
       "      <td>LS</td>\n",
       "      <td>E02</td>\n",
       "    </tr>\n",
       "    <tr>\n",
       "      <th>9</th>\n",
       "      <td>200816</td>\n",
       "      <td>20080614</td>\n",
       "      <td>7</td>\n",
       "      <td>11</td>\n",
       "      <td>1</td>\n",
       "      <td>1.83</td>\n",
       "      <td>PRD0900159</td>\n",
       "      <td>CL00029</td>\n",
       "      <td>DEP00008</td>\n",
       "      <td>G00004</td>\n",
       "      <td>...</td>\n",
       "      <td>UM</td>\n",
       "      <td>OT</td>\n",
       "      <td>994111400636870</td>\n",
       "      <td>L</td>\n",
       "      <td>MM</td>\n",
       "      <td>Full Shop</td>\n",
       "      <td>Mixed</td>\n",
       "      <td>STORE00001</td>\n",
       "      <td>LS</td>\n",
       "      <td>E02</td>\n",
       "    </tr>\n",
       "    <tr>\n",
       "      <th>10</th>\n",
       "      <td>200816</td>\n",
       "      <td>20080609</td>\n",
       "      <td>2</td>\n",
       "      <td>18</td>\n",
       "      <td>1</td>\n",
       "      <td>0.61</td>\n",
       "      <td>PRD0900173</td>\n",
       "      <td>CL00045</td>\n",
       "      <td>DEP00011</td>\n",
       "      <td>G00004</td>\n",
       "      <td>...</td>\n",
       "      <td>MM</td>\n",
       "      <td>YA</td>\n",
       "      <td>994111400402889</td>\n",
       "      <td>M</td>\n",
       "      <td>UM</td>\n",
       "      <td>Small Shop</td>\n",
       "      <td>Mixed</td>\n",
       "      <td>STORE00001</td>\n",
       "      <td>LS</td>\n",
       "      <td>E02</td>\n",
       "    </tr>\n",
       "    <tr>\n",
       "      <th>12</th>\n",
       "      <td>200816</td>\n",
       "      <td>20080612</td>\n",
       "      <td>5</td>\n",
       "      <td>20</td>\n",
       "      <td>1</td>\n",
       "      <td>1.37</td>\n",
       "      <td>PRD0900202</td>\n",
       "      <td>CL00002</td>\n",
       "      <td>DEP00001</td>\n",
       "      <td>G00001</td>\n",
       "      <td>...</td>\n",
       "      <td>UM</td>\n",
       "      <td>OT</td>\n",
       "      <td>994111400213539</td>\n",
       "      <td>M</td>\n",
       "      <td>MM</td>\n",
       "      <td>Small Shop</td>\n",
       "      <td>Fresh</td>\n",
       "      <td>STORE00001</td>\n",
       "      <td>LS</td>\n",
       "      <td>E02</td>\n",
       "    </tr>\n",
       "    <tr>\n",
       "      <th>15</th>\n",
       "      <td>200816</td>\n",
       "      <td>20080614</td>\n",
       "      <td>7</td>\n",
       "      <td>11</td>\n",
       "      <td>1</td>\n",
       "      <td>0.85</td>\n",
       "      <td>PRD0900254</td>\n",
       "      <td>CL00001</td>\n",
       "      <td>DEP00001</td>\n",
       "      <td>G00001</td>\n",
       "      <td>...</td>\n",
       "      <td>UM</td>\n",
       "      <td>OT</td>\n",
       "      <td>994111400636870</td>\n",
       "      <td>L</td>\n",
       "      <td>MM</td>\n",
       "      <td>Full Shop</td>\n",
       "      <td>Mixed</td>\n",
       "      <td>STORE00001</td>\n",
       "      <td>LS</td>\n",
       "      <td>E02</td>\n",
       "    </tr>\n",
       "  </tbody>\n",
       "</table>\n",
       "<p>10 rows × 22 columns</p>\n",
       "</div>"
      ],
      "text/plain": [
       "    SHOP_WEEK  SHOP_DATE  SHOP_WEEKDAY  SHOP_HOUR  QUANTITY  SPEND  \\\n",
       "0      200816   20080609             2         13         1   1.56   \n",
       "1      200816   20080614             7         18         1   1.00   \n",
       "3      200816   20080613             6         12         1   0.95   \n",
       "4      200816   20080613             6         11         1   0.98   \n",
       "6      200816   20080609             2          8         1   0.98   \n",
       "7      200816   20080611             4         16         1   0.98   \n",
       "9      200816   20080614             7         11         1   1.83   \n",
       "10     200816   20080609             2         18         1   0.61   \n",
       "12     200816   20080612             5         20         1   1.37   \n",
       "15     200816   20080614             7         11         1   0.85   \n",
       "\n",
       "     PROD_CODE PROD_CODE_10 PROD_CODE_20 PROD_CODE_30     ...       \\\n",
       "0   PRD0900049      CL00160     DEP00054       G00016     ...        \n",
       "1   PRD0900066      CL00041     DEP00011       G00004     ...        \n",
       "3   PRD0900105      CL00152     DEP00052       G00015     ...        \n",
       "4   PRD0900121      CL00063     DEP00019       G00007     ...        \n",
       "6   PRD0900121      CL00063     DEP00019       G00007     ...        \n",
       "7   PRD0900121      CL00063     DEP00019       G00007     ...        \n",
       "9   PRD0900159      CL00029     DEP00008       G00004     ...        \n",
       "10  PRD0900173      CL00045     DEP00011       G00004     ...        \n",
       "12  PRD0900202      CL00002     DEP00001       G00001     ...        \n",
       "15  PRD0900254      CL00001     DEP00001       G00001     ...        \n",
       "\n",
       "   CUST_PRICE_SENSITIVITY CUST_LIFESTAGE        BASKET_ID BASKET_SIZE  \\\n",
       "0                      MM             YA  994111400529101           L   \n",
       "1                      LA             OT  994111400731371           L   \n",
       "3                      UM             YA  994111400718428           L   \n",
       "4                      LA             YA  994111400415167           S   \n",
       "6                      LA             PE  994111400786718           L   \n",
       "7                      UM             OT  994111400218762           L   \n",
       "9                      UM             OT  994111400636870           L   \n",
       "10                     MM             YA  994111400402889           M   \n",
       "12                     UM             OT  994111400213539           M   \n",
       "15                     UM             OT  994111400636870           L   \n",
       "\n",
       "    BASKET_PRICE_SENSITIVITY BASKET_TYPE BASKET_DOMINANT_MISSION  STORE_CODE  \\\n",
       "0                         UM      Top Up                   Fresh  STORE00001   \n",
       "1                         LA   Full Shop                   Mixed  STORE00001   \n",
       "3                         MM   Full Shop                   Mixed  STORE00001   \n",
       "4                         MM  Small Shop                 Nonfood  STORE00001   \n",
       "6                         MM      Top Up                   Mixed  STORE00001   \n",
       "7                         MM      Top Up                   Fresh  STORE00001   \n",
       "9                         MM   Full Shop                   Mixed  STORE00001   \n",
       "10                        UM  Small Shop                   Mixed  STORE00001   \n",
       "12                        MM  Small Shop                   Fresh  STORE00001   \n",
       "15                        MM   Full Shop                   Mixed  STORE00001   \n",
       "\n",
       "   STORE_FORMAT STORE_REGION  \n",
       "0            LS          E02  \n",
       "1            LS          E02  \n",
       "3            LS          E02  \n",
       "4            LS          E02  \n",
       "6            LS          E02  \n",
       "7            LS          E02  \n",
       "9            LS          E02  \n",
       "10           LS          E02  \n",
       "12           LS          E02  \n",
       "15           LS          E02  \n",
       "\n",
       "[10 rows x 22 columns]"
      ]
     },
     "execution_count": 4,
     "metadata": {},
     "output_type": "execute_result"
    }
   ],
   "source": [
    "data.head(10)\n"
   ]
  },
  {
   "cell_type": "markdown",
   "metadata": {},
   "source": [
    "Summarize some categorical variables"
   ]
  },
  {
   "cell_type": "code",
   "execution_count": 20,
   "metadata": {
    "collapsed": false
   },
   "outputs": [
    {
     "data": {
      "text/plain": [
       "PROD_CODE_40  PROD_CODE_30  PROD_CODE_20  PROD_CODE_10\n",
       "D00001        G00001        DEP00001      CL00001         2753\n",
       "                                          CL00002         2073\n",
       "                            DEP00002      CL00003         1141\n",
       "                                          CL00004          183\n",
       "                                          CL00005          361\n",
       "                                          CL00006         1911\n",
       "              G00002        DEP00003      CL00007         1338\n",
       "                                          CL00008          534\n",
       "                                          CL00009          115\n",
       "                                          CL00010          732\n",
       "                                          CL00011          175\n",
       "                                          CL00012           66\n",
       "              G00003        DEP00004      CL00013          754\n",
       "                                          CL00014         1149\n",
       "                                          CL00015          649\n",
       "                                          CL00016          257\n",
       "                            DEP00005      CL00017          804\n",
       "                                          CL00018          566\n",
       "                                          CL00019           38\n",
       "                                          CL00020         1281\n",
       "                            DEP00006      CL00021           30\n",
       "                            DEP00007      CL00022          117\n",
       "D00002        G00004        DEP00008      CL00023         2169\n",
       "                                          CL00024          646\n",
       "                                          CL00025         1302\n",
       "                                          CL00026         1043\n",
       "                                          CL00027          761\n",
       "                                          CL00028          420\n",
       "                                          CL00029          633\n",
       "                                          CL00030         1996\n",
       "                                                          ... \n",
       "D00005        G00023        DEP00075      CL00221            8\n",
       "                            DEP00076      CL00222         3871\n",
       "                                          CL00223            4\n",
       "                                          CL00224          113\n",
       "D00006        G00024        DEP00077      CL00225           92\n",
       "                            DEP00078      CL00226           26\n",
       "              G00025        DEP00079      CL00227          132\n",
       "D00007        G00026        DEP00080      CL00228           25\n",
       "D00008        G00027        DEP00081      CL00229          500\n",
       "                                          CL00230          165\n",
       "                                          CL00231          163\n",
       "                            DEP00082      CL00232           49\n",
       "              G00028        DEP00083      CL00233          189\n",
       "                                          CL00234           86\n",
       "                                          CL00235          534\n",
       "                            DEP00084      CL00236          253\n",
       "                                          CL00237           79\n",
       "                                          CL00238          388\n",
       "                            DEP00085      CL00239          135\n",
       "                            DEP00086      CL00240          132\n",
       "                                          CL00241           16\n",
       "                            DEP00087      CL00242           28\n",
       "              G00029        DEP00088      CL00243          146\n",
       "                                          CL00244           30\n",
       "                                          CL00245          178\n",
       "                                          CL00246           82\n",
       "D00009        G00030        DEP00089      CL00247           15\n",
       "                                          CL00248          226\n",
       "                                          CL00249           87\n",
       "              G00031        DEP00090      CL00250          229\n",
       "Name: SPEND, dtype: int64"
      ]
     },
     "execution_count": 20,
     "metadata": {},
     "output_type": "execute_result"
    }
   ],
   "source": [
    "#product hierarchy\n",
    "byhierarchy = data.groupby(['PROD_CODE_40','PROD_CODE_30','PROD_CODE_20','PROD_CODE_10'])\n",
    "byhierarchy['SPEND'].count()"
   ]
  },
  {
   "cell_type": "code",
   "execution_count": null,
   "metadata": {
    "collapsed": false
   },
   "outputs": [],
   "source": [
    "from plotly.graph_objs import *\n",
    "\n",
    "iplot({\n",
    "    'data': [\n",
    "        Scatter(x=data['SPEND'].sum(),\n",
    "                y=data['SPEND'].count(),\n",
    "                text=data['PROD_CODE_10'],\n",
    "                marker=Marker(size=data['SPEND'].sum(), sizemode='area', sizeref=131868,),\n",
    "                mode='markers',\n",
    "                name=division) for division in data['PROD_CODE_40'] ],\n",
    "    'layout': Layout(xaxis=XAxis(title='Spend'), yaxis=YAxis(title='count', type='log'))\n",
    "}, show_link=False)\n",
    "\n",
    "\n"
   ]
  },
  {
   "cell_type": "code",
   "execution_count": 5,
   "metadata": {
    "collapsed": false
   },
   "outputs": [
    {
     "data": {
      "text/plain": [
       "CUST_LIFESTAGE  CUST_PRICE_SENSITIVITY\n",
       "OA              LA                         6620\n",
       "                MM                        13126\n",
       "                UM                         9192\n",
       "                XX                           13\n",
       "OF              LA                         5054\n",
       "                MM                         5950\n",
       "                UM                         2116\n",
       "OT              LA                        15033\n",
       "                MM                        25916\n",
       "                UM                        17795\n",
       "                XX                          218\n",
       "PE              LA                         4028\n",
       "                MM                         8096\n",
       "                UM                         4341\n",
       "                XX                           20\n",
       "YA              LA                         7568\n",
       "                MM                        12653\n",
       "                UM                         9634\n",
       "                XX                           10\n",
       "YF              LA                        13699\n",
       "                MM                        21286\n",
       "                UM                         9102\n",
       "Name: SPEND, dtype: int64"
      ]
     },
     "execution_count": 5,
     "metadata": {},
     "output_type": "execute_result"
    }
   ],
   "source": [
    "#customer categories\n",
    "from plotly import __version__\n",
    "bycustomer = data.groupby(['CUST_LIFESTAGE','CUST_PRICE_SENSITIVITY'])\n",
    "bycustomer['SPEND'].count()"
   ]
  },
  {
   "cell_type": "markdown",
   "metadata": {},
   "source": [
    "split into train/test and do some quick classifying to see if we can likely do this project"
   ]
  },
  {
   "cell_type": "code",
   "execution_count": 18,
   "metadata": {
    "collapsed": false
   },
   "outputs": [],
   "source": [
    "#create my target variable\n",
    "data[\"CUST_LIFESTAGE_PRICE_SENSITIVITY\"] = data[\"CUST_LIFESTAGE\"] + \"-\" + data[\"CUST_PRICE_SENSITIVITY\"]\n",
    "\n",
    "#create basketprofiles.  Simplest version will be to sum spend in each category in PROD_CODE_20, keeping the target variable as well\n",
    "#pivot code from http://stackoverflow.com/questions/41046766/using-and-graphing-the-results-of-a-crosstab-dataframe-in-python\n",
    "\n",
    "data_cross=data.pivot_table(index='BASKET_ID', columns='PROD_CODE_20', values='SPEND', aggfunc=np.sum, fill_value=0)\n",
    "data_cross.reset_index(level=['BASKET_ID'], inplace=True)\n",
    "\n",
    "#create target for the classifier\n",
    "bybasket=data.groupby(['BASKET_ID'])\n",
    "targetByBasket=pd.DataFrame(bybasket['CUST_LIFESTAGE_PRICE_SENSITIVITY'].first())\n",
    "targetByBasket.reset_index(level=['BASKET_ID'], inplace=True)\n",
    "\n",
    "#create variables for the naive classifier\n",
    "spendByBasket=pd.DataFrame(bybasket['SPEND'].sum())\n",
    "spendByBasket.reset_index(level=['BASKET_ID'], inplace=True)\n",
    "\n",
    "basketTypeByBasket=pd.DataFrame(bybasket['BASKET_TYPE'].first())\n",
    "basketTypeByBasket.reset_index(level=['BASKET_ID'], inplace=True)\n",
    "\n",
    "basketSizeByBasket=pd.DataFrame(bybasket['BASKET_SIZE'].first())\n",
    "basketSizeByBasket.reset_index(level=['BASKET_ID'], inplace=True)\n",
    "\n",
    "weekdayByBasket=pd.DataFrame(bybasket['SHOP_WEEKDAY'].first())\n",
    "weekdayByBasket.reset_index(level=['BASKET_ID'], inplace=True)\n",
    "\n",
    "\n",
    "#merge them back in\n",
    "data_cross = pd.merge(data_cross, targetByBasket, how='inner', on = 'BASKET_ID')\n",
    "data_cross = pd.merge(data_cross, spendByBasket, how='inner', on = 'BASKET_ID')\n",
    "data_cross = pd.merge(data_cross, basketTypeByBasket, how='inner', on = 'BASKET_ID')\n",
    "data_cross = pd.merge(data_cross, basketSizeByBasket, how='inner', on = 'BASKET_ID')\n",
    "data_cross = pd.merge(data_cross, weekdayByBasket, how='inner', on = 'BASKET_ID')\n",
    "#data_cross.head(10)\n",
    "#list(data_cross.columns.values)"
   ]
  },
  {
   "cell_type": "code",
   "execution_count": 19,
   "metadata": {
    "collapsed": false
   },
   "outputs": [],
   "source": [
    "#create the training, testing split\n",
    "from sklearn.cross_validation import train_test_split\n",
    "#split off the target variable\n",
    "y = data_cross.pop(\"CUST_LIFESTAGE_PRICE_SENSITIVITY\")\n",
    "X = data_cross\n",
    "\n",
    "#split the data into training and testing, from http://scikit-learn.org/stable/modules/generated/sklearn.model_selection.train_test_split.html\n",
    "X_train, X_test, y_train, y_test = train_test_split(X, y, test_size=0.1, random_state=42) "
   ]
  },
  {
   "cell_type": "code",
   "execution_count": 15,
   "metadata": {
    "collapsed": false,
    "scrolled": true
   },
   "outputs": [],
   "source": [
    "#create the naive predictor\n",
    "\n",
    "avgTrainSpend=X_train['SPEND'].mean()\n",
    "stDevTrainSpend=X_train['SPEND'].std()\n",
    "\n",
    "\n",
    "def NaiveClassifier(test, trainMean, trainStd):\n",
    "\n",
    "    if(test['SPEND']<trainMean-trainStd):\n",
    "            if(test['BASKET_TYPE']='Full Shop')\n",
    "                   naivePriceSens = 'LA'\n",
    "            else:\n",
    "                    naivePriceSens = 'MM'\n",
    "    elif(test['SPEND']>rainMean-trainStd):\n",
    "        if(test['BASKET_TYPE']='Full Shop')\n",
    "                   naivePriceSens = 'MM\n",
    "            else:\n",
    "                    naivePriceSens = 'UM'\n",
    "    else:\n",
    "        naivePriceSens = 'MM'\n",
    "    \n",
    "    if (test[\"SHOP_WEEKDAY\"] = 7) or (test[\"SHOP_WEEKDAY\"] = 1):\n",
    "        if(test['BASKET_SIZE'] = 'Small'):\n",
    "            if(test['BASKET_TYPE']='Small Shop')\n",
    "                   naivePriceSens = 'YA'\n",
    "            else:\n",
    "                    naivePriceSens = 'OA'\n",
    "        elif(test['BASKET_SIZE'] = 'Medium'):\n",
    "            naiveLifeStage = 'YF'\n",
    "        else:\n",
    "            naiveLifeStage = 'OF'            \n",
    "    else:\n",
    "        naiveLifeStage = 'PE'\n",
    "    \n",
    "    \n",
    "    \n",
    "    return naivePriceSens + \"-\" naiveLifeStage\n",
    "\n",
    "#apply to every row\n",
    "#X_test.apply(NaiveClassifier, args=(avgTrainSpend,stDevTrainSpend)) # returns DataFrame\n"
   ]
  },
  {
   "cell_type": "code",
   "execution_count": null,
   "metadata": {
    "collapsed": true
   },
   "outputs": [],
   "source": [
    "#pop the two classifiers used for the naive predictor before doing any classification\n",
    "X_train.pop(\"SPEND\")\n",
    "X_train.pop(\"SHOP_WEEKDAY\")\n",
    "X_test.pop(\"SPEND\")\n",
    "X_test.pop(\"SHOP_WEEKDAY\")"
   ]
  },
  {
   "cell_type": "code",
   "execution_count": null,
   "metadata": {
    "collapsed": false
   },
   "outputs": [],
   "source": [
    "from sklearn.ensemble import RandomForestClassifier\n",
    "rfc = RandomForestClassifier(n_estimators = 100)\n",
    "\n",
    "rfc = rfc.fit(X_train, y_train)\n",
    "#rfc_pred = rfc.predict(X_test)\n",
    "rfc.score(X_test,y_test)"
   ]
  },
  {
   "cell_type": "code",
   "execution_count": null,
   "metadata": {
    "collapsed": false
   },
   "outputs": [],
   "source": [
    "#requires sklearn 0.18\n",
    "#conda update sklearn\n",
    "\n",
    "from sklearn.neural_network import MLPClassifier\n",
    "ann = MLPClassifier(solver='lbfgs', alpha=1e-5, hidden_layer_sizes=(5, 2), random_state=1)\n",
    "ann = ann.fit(X_train, y_train)\n",
    "ann.score(X_test,y_test)"
   ]
  },
  {
   "cell_type": "code",
   "execution_count": 9,
   "metadata": {
    "collapsed": false
   },
   "outputs": [
    {
     "data": {
      "text/plain": [
       "0.67114788004136505"
      ]
     },
     "execution_count": 9,
     "metadata": {},
     "output_type": "execute_result"
    }
   ],
   "source": [
    "from sklearn.neighbors import KNeighborsClassifier\n",
    "\n",
    "nn = KNeighborsClassifier(n_neighbors=1)\n",
    "nn = nn.fit(X_train,y_train)\n",
    "#nn_pred = nn.pred(X_test)\n",
    "nn.score(X_test,y_test)"
   ]
  },
  {
   "cell_type": "code",
   "execution_count": null,
   "metadata": {
    "collapsed": false
   },
   "outputs": [],
   "source": [
    "from sklearn import tree\n",
    "dt = tree.DecisionTreeClassifier()\n",
    "dt = dt.fit(X_train, y_train)\n",
    "dt.score(X_test,y_test)"
   ]
  },
  {
   "cell_type": "code",
   "execution_count": null,
   "metadata": {
    "collapsed": false
   },
   "outputs": [],
   "source": [
    "from sklearn.ensemble import AdaBoostClassifier\n",
    "ada = AdaBoostClassifier(n_estimators=100)\n",
    "ada = ada.fit(X_train, y_train)\n",
    "ada.score(X_test,y_test)"
   ]
  },
  {
   "cell_type": "code",
   "execution_count": null,
   "metadata": {
    "collapsed": false
   },
   "outputs": [],
   "source": [
    "import sklearn\n",
    "print('The scikit-learn version is {}.'.format(sklearn.__version__))"
   ]
  },
  {
   "cell_type": "code",
   "execution_count": null,
   "metadata": {
    "collapsed": false
   },
   "outputs": [],
   "source": [
    "#random useful code snippets\n",
    "list(data.columns.values)\n",
    "data['SPEND'].dtype\n",
    "data_cross.head(10)"
   ]
  }
 ],
 "metadata": {
  "anaconda-cloud": {},
  "kernelspec": {
   "display_name": "Python 2",
   "language": "python",
   "name": "python2"
  },
  "language_info": {
   "codemirror_mode": {
    "name": "ipython",
    "version": 2
   },
   "file_extension": ".py",
   "mimetype": "text/x-python",
   "name": "python",
   "nbconvert_exporter": "python",
   "pygments_lexer": "ipython2",
   "version": "2.7.11"
  }
 },
 "nbformat": 4,
 "nbformat_minor": 0
}
